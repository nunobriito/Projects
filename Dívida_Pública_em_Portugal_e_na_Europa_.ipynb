{
  "nbformat": 4,
  "nbformat_minor": 0,
  "metadata": {
    "colab": {
      "provenance": [],
      "authorship_tag": "ABX9TyOizw5KSwLSKdAnoiKZKg8W",
      "include_colab_link": true
    },
    "kernelspec": {
      "name": "python3",
      "display_name": "Python 3"
    },
    "language_info": {
      "name": "python"
    }
  },
  "cells": [
    {
      "cell_type": "markdown",
      "metadata": {
        "id": "view-in-github",
        "colab_type": "text"
      },
      "source": [
        "<a href=\"https://colab.research.google.com/github/nunobriito/Projects/blob/main/D%C3%ADvida_P%C3%BAblica_em_Portugal_e_na_Europa_.ipynb\" target=\"_parent\"><img src=\"https://colab.research.google.com/assets/colab-badge.svg\" alt=\"Open In Colab\"/></a>"
      ]
    },
    {
      "cell_type": "markdown",
      "source": [
        "# **Divida Pública na Europa**"
      ],
      "metadata": {
        "id": "2VlYLIENkvP4"
      }
    },
    {
      "cell_type": "markdown",
      "source": [
        "## O que é a dívida pública?\n",
        "\n",
        "A dívida pública é a soma de todos os **empréstimos contraídos pelo governo de um país para financiar suas atividades e projetos**. Isto inclui gastos com saúde, educação, infraestrutura e outras áreas. O governo pode financiar a dívida através de **emissões de títulos, empréstimos de outros países ou instituições financeiras**. O impacto da dívida pública sobre as pessoas depende de como o governo gere a dívida e de como ele utiliza os recursos financeiros obtidos. Se a dívida for gerida de forma responsável e os recursos são usados ​​efetivamente para melhorar a qualidade de vida da população e a dívida pública pode ter um impacto positivo. Por outro lado, se a dívida for mal gerida e os recursos não forem bem aplicados, isso pode ter um impacto negativo sobre a economia e, consequentemente, sobre as pessoas.\n",
        "\n",
        "<img src=\"https://s2.glbimg.com/ldaius4nTSr3Y9RAwmT_oklpD84=/620x430/e.glbimg.com/og/ed/f/original/2022/02/10/pexels-pixabay-259100.jpg\" alt=\"Euro\" style=\"width:50%; height:50%;\">\n"
      ],
      "metadata": {
        "id": "stzNgTFXk2lV"
      }
    },
    {
      "cell_type": "markdown",
      "source": [
        "## De que forma a população em geral pode ser impactado?\n",
        "\n",
        "A dívida pública pode impactar a população de diferentes formas, incluindo:\n",
        "1. **Aumento de impostos:** Isto pode afetar negativamente a renda da população e dificultar a compra de bens e serviços. É a forma menos popular para a população em geral. Ninguém gosta de ouvir falar em impostos.\n",
        "2. **Redução de gastos públicos:** O governo pode precisar de cortar gastos com áreas importantes, como, saúde, educação e segurança. Estes cortes podem ser feitos para diminuir a dívida se esta for demasiado alta. Mas desta forma a vida geral das pessoas pode ser diretamente prejudicada.\n",
        "3. **Instabilidade económica:** Uma dívida elevada pode prejudicar a confiança dos investidores no país e, desta forma prejudicar a economia do país negativamente.\n",
        "4. **Inflação:** A dívida pública pode ter um impacto significativo na vida da população, levando a uma inflação crescente. Quando um país tem uma dívida pública alta, é necessário emitir mais moeda para pagar os juros e amortizações da dívida. Isso resulta em uma maior oferta de moeda no mercado, o que pode levar a uma inflação elevada. Com a inflação, os preços dos bens e serviços aumentam, o que pode encarecer a vida das pessoas e reduzir o poder de compra da população em geral."
      ],
      "metadata": {
        "id": "ljnYWrXIl4Ez"
      }
    },
    {
      "cell_type": "markdown",
      "source": [
        "Nesta análise sobre a dívida pública na Europa, queremos nos concentrar **principalmente em Portugal**, comparando seu desempenho com outros países da região. Além disso, queremos fazer uma avaliação mais aprofundada da relação entre a dívida pública e a população de cada país.\n",
        "\n",
        "A dívida pública é um indicador crucial para avaliar a saúde financeira de um país. Embora a dívida pública possa ser útil no curto prazo, ao longo do tempo, o seu acúmulo pode tornar-se problemático e resultar em dificuldades financeiras para o país e sua população. Além disso, queremos analisar a relação entre o PIB e a dívida pública em Portugal para ter uma visão mais clara da sua evolução e sua influência na economia do país.\n",
        "\n",
        "Nosso objetivo é comparar a dívida pública de Portugal com a média da Europa e ver se está acima ou abaixo da média. Além disso, queremos calcular a dívida per capita, ou seja, a dívida por pessoa, em Portugal e na Europa. Isso nos permitirá ter uma visão mais clara da magnitude do problema da dívida pública e sua relação com a população.\n",
        "\n",
        "A comparação da dívida pública de Portugal com a média da Europa, a análise da dívida per capita e a avaliação da relação entre o PIB e a dívida pública permitirão uma avaliação mais aprofundada da situação financeira de Portugal e seus impactos na economia e na vida da população. Além disso, essas informações serão importantes para tomar decisões e implementar medidas eficazes para reduzir a dívida pública e melhorar a economia do país."
      ],
      "metadata": {
        "id": "JheDCMM_1cRm"
      }
    },
    {
      "cell_type": "markdown",
      "source": [
        "*Todos estes dados foram retirados a partir do site [PorData](https://www.pordata.pt/home). Por lá podem encontrar estes e outros dados de Portugal e da Europa.*\n",
        "Vamos partir para uma análise de dados, para conseguirmos perceber todas as informações valiosas que nos possam a ajudar a ter uma perceção da dívida na Europa e sobretudo em Portugal."
      ],
      "metadata": {
        "id": "Da5ELL3Dxi0-"
      }
    },
    {
      "cell_type": "code",
      "source": [
        "# Importar bibliotecas\n",
        "import pandas as pd\n",
        "import matplotlib.pyplot as plt\n",
        "\n",
        "\n"
      ],
      "metadata": {
        "id": "L-1TymhZMPH1"
      },
      "execution_count": 35,
      "outputs": []
    },
    {
      "cell_type": "code",
      "source": [
        "# Importar dataframe\n",
        "df = pd.read_csv(\"https://raw.githubusercontent.com/nunobriito/Artigos/main/Divida%20Publica%20na%20Europa.csv\", sep=\";\")"
      ],
      "metadata": {
        "id": "BBFVLOQzMRrd"
      },
      "execution_count": 36,
      "outputs": []
    },
    {
      "cell_type": "code",
      "source": [
        "# Visualizar as 5 primeiras entradas\n",
        "df.head()"
      ],
      "metadata": {
        "colab": {
          "base_uri": "https://localhost:8080/",
          "height": 317
        },
        "id": "aXWI_HSUMXuN",
        "outputId": "04ae6160-f1c9-45b5-a513-3545fb19bc50"
      },
      "execution_count": 37,
      "outputs": [
        {
          "output_type": "execute_result",
          "data": {
            "text/plain": [
              "    Ano  Alemanha  Áustria  Bélgica  Bulgária  Chipre  Croácia  Dinamarca  \\\n",
              "0  2000  1251.531  141.246  280.960    10.177   6.025    8.441     93.084   \n",
              "1  2001  1264.267  147.154  286.056    10.270   6.661    9.661     89.465   \n",
              "2  2002  1317.680  151.296  288.111     8.890   7.340   10.398     93.175   \n",
              "3  2003  1405.195  152.688  285.867     8.127   8.185   11.622     89.061   \n",
              "4  2004  1475.183  157.985  288.419     7.526   9.056   13.211     89.395   \n",
              "\n",
              "   Eslováquia  Eslovénia  ...  Letónia  Lituânia  Luxemburgo  Malta  \\\n",
              "0      10.954      5.484  ...    1.011     2.912       1.723  2.654   \n",
              "1      12.370      6.036  ...    1.304     3.185       1.824  2.989   \n",
              "2      12.274      6.708  ...    1.252     3.366       1.864  2.927   \n",
              "3      13.125      6.944  ...    1.410     3.395       1.951  3.267   \n",
              "4      14.977      7.428  ...    1.629     3.405       2.208  3.450   \n",
              "\n",
              "   Países_Baixos  Polónia  Portugal  República Checa  Roménia   Suécia  \n",
              "0        235.839   70.735    69.592           11.568    7.533  137.290  \n",
              "1        238.641   83.306    77.908           18.322   10.917  139.698  \n",
              "2        244.876   84.224    85.595           22.014   10.757  141.391  \n",
              "3        256.443   83.894    93.333           24.531   10.310  146.710  \n",
              "4        266.292  103.059   102.158           28.673   11.769  152.019  \n",
              "\n",
              "[5 rows x 28 columns]"
            ],
            "text/html": [
              "\n",
              "  <div id=\"df-d1efc2e3-d2e4-474d-8c06-9371b3ef2d7c\">\n",
              "    <div class=\"colab-df-container\">\n",
              "      <div>\n",
              "<style scoped>\n",
              "    .dataframe tbody tr th:only-of-type {\n",
              "        vertical-align: middle;\n",
              "    }\n",
              "\n",
              "    .dataframe tbody tr th {\n",
              "        vertical-align: top;\n",
              "    }\n",
              "\n",
              "    .dataframe thead th {\n",
              "        text-align: right;\n",
              "    }\n",
              "</style>\n",
              "<table border=\"1\" class=\"dataframe\">\n",
              "  <thead>\n",
              "    <tr style=\"text-align: right;\">\n",
              "      <th></th>\n",
              "      <th>Ano</th>\n",
              "      <th>Alemanha</th>\n",
              "      <th>Áustria</th>\n",
              "      <th>Bélgica</th>\n",
              "      <th>Bulgária</th>\n",
              "      <th>Chipre</th>\n",
              "      <th>Croácia</th>\n",
              "      <th>Dinamarca</th>\n",
              "      <th>Eslováquia</th>\n",
              "      <th>Eslovénia</th>\n",
              "      <th>...</th>\n",
              "      <th>Letónia</th>\n",
              "      <th>Lituânia</th>\n",
              "      <th>Luxemburgo</th>\n",
              "      <th>Malta</th>\n",
              "      <th>Países_Baixos</th>\n",
              "      <th>Polónia</th>\n",
              "      <th>Portugal</th>\n",
              "      <th>República Checa</th>\n",
              "      <th>Roménia</th>\n",
              "      <th>Suécia</th>\n",
              "    </tr>\n",
              "  </thead>\n",
              "  <tbody>\n",
              "    <tr>\n",
              "      <th>0</th>\n",
              "      <td>2000</td>\n",
              "      <td>1251.531</td>\n",
              "      <td>141.246</td>\n",
              "      <td>280.960</td>\n",
              "      <td>10.177</td>\n",
              "      <td>6.025</td>\n",
              "      <td>8.441</td>\n",
              "      <td>93.084</td>\n",
              "      <td>10.954</td>\n",
              "      <td>5.484</td>\n",
              "      <td>...</td>\n",
              "      <td>1.011</td>\n",
              "      <td>2.912</td>\n",
              "      <td>1.723</td>\n",
              "      <td>2.654</td>\n",
              "      <td>235.839</td>\n",
              "      <td>70.735</td>\n",
              "      <td>69.592</td>\n",
              "      <td>11.568</td>\n",
              "      <td>7.533</td>\n",
              "      <td>137.290</td>\n",
              "    </tr>\n",
              "    <tr>\n",
              "      <th>1</th>\n",
              "      <td>2001</td>\n",
              "      <td>1264.267</td>\n",
              "      <td>147.154</td>\n",
              "      <td>286.056</td>\n",
              "      <td>10.270</td>\n",
              "      <td>6.661</td>\n",
              "      <td>9.661</td>\n",
              "      <td>89.465</td>\n",
              "      <td>12.370</td>\n",
              "      <td>6.036</td>\n",
              "      <td>...</td>\n",
              "      <td>1.304</td>\n",
              "      <td>3.185</td>\n",
              "      <td>1.824</td>\n",
              "      <td>2.989</td>\n",
              "      <td>238.641</td>\n",
              "      <td>83.306</td>\n",
              "      <td>77.908</td>\n",
              "      <td>18.322</td>\n",
              "      <td>10.917</td>\n",
              "      <td>139.698</td>\n",
              "    </tr>\n",
              "    <tr>\n",
              "      <th>2</th>\n",
              "      <td>2002</td>\n",
              "      <td>1317.680</td>\n",
              "      <td>151.296</td>\n",
              "      <td>288.111</td>\n",
              "      <td>8.890</td>\n",
              "      <td>7.340</td>\n",
              "      <td>10.398</td>\n",
              "      <td>93.175</td>\n",
              "      <td>12.274</td>\n",
              "      <td>6.708</td>\n",
              "      <td>...</td>\n",
              "      <td>1.252</td>\n",
              "      <td>3.366</td>\n",
              "      <td>1.864</td>\n",
              "      <td>2.927</td>\n",
              "      <td>244.876</td>\n",
              "      <td>84.224</td>\n",
              "      <td>85.595</td>\n",
              "      <td>22.014</td>\n",
              "      <td>10.757</td>\n",
              "      <td>141.391</td>\n",
              "    </tr>\n",
              "    <tr>\n",
              "      <th>3</th>\n",
              "      <td>2003</td>\n",
              "      <td>1405.195</td>\n",
              "      <td>152.688</td>\n",
              "      <td>285.867</td>\n",
              "      <td>8.127</td>\n",
              "      <td>8.185</td>\n",
              "      <td>11.622</td>\n",
              "      <td>89.061</td>\n",
              "      <td>13.125</td>\n",
              "      <td>6.944</td>\n",
              "      <td>...</td>\n",
              "      <td>1.410</td>\n",
              "      <td>3.395</td>\n",
              "      <td>1.951</td>\n",
              "      <td>3.267</td>\n",
              "      <td>256.443</td>\n",
              "      <td>83.894</td>\n",
              "      <td>93.333</td>\n",
              "      <td>24.531</td>\n",
              "      <td>10.310</td>\n",
              "      <td>146.710</td>\n",
              "    </tr>\n",
              "    <tr>\n",
              "      <th>4</th>\n",
              "      <td>2004</td>\n",
              "      <td>1475.183</td>\n",
              "      <td>157.985</td>\n",
              "      <td>288.419</td>\n",
              "      <td>7.526</td>\n",
              "      <td>9.056</td>\n",
              "      <td>13.211</td>\n",
              "      <td>89.395</td>\n",
              "      <td>14.977</td>\n",
              "      <td>7.428</td>\n",
              "      <td>...</td>\n",
              "      <td>1.629</td>\n",
              "      <td>3.405</td>\n",
              "      <td>2.208</td>\n",
              "      <td>3.450</td>\n",
              "      <td>266.292</td>\n",
              "      <td>103.059</td>\n",
              "      <td>102.158</td>\n",
              "      <td>28.673</td>\n",
              "      <td>11.769</td>\n",
              "      <td>152.019</td>\n",
              "    </tr>\n",
              "  </tbody>\n",
              "</table>\n",
              "<p>5 rows × 28 columns</p>\n",
              "</div>\n",
              "      <button class=\"colab-df-convert\" onclick=\"convertToInteractive('df-d1efc2e3-d2e4-474d-8c06-9371b3ef2d7c')\"\n",
              "              title=\"Convert this dataframe to an interactive table.\"\n",
              "              style=\"display:none;\">\n",
              "        \n",
              "  <svg xmlns=\"http://www.w3.org/2000/svg\" height=\"24px\"viewBox=\"0 0 24 24\"\n",
              "       width=\"24px\">\n",
              "    <path d=\"M0 0h24v24H0V0z\" fill=\"none\"/>\n",
              "    <path d=\"M18.56 5.44l.94 2.06.94-2.06 2.06-.94-2.06-.94-.94-2.06-.94 2.06-2.06.94zm-11 1L8.5 8.5l.94-2.06 2.06-.94-2.06-.94L8.5 2.5l-.94 2.06-2.06.94zm10 10l.94 2.06.94-2.06 2.06-.94-2.06-.94-.94-2.06-.94 2.06-2.06.94z\"/><path d=\"M17.41 7.96l-1.37-1.37c-.4-.4-.92-.59-1.43-.59-.52 0-1.04.2-1.43.59L10.3 9.45l-7.72 7.72c-.78.78-.78 2.05 0 2.83L4 21.41c.39.39.9.59 1.41.59.51 0 1.02-.2 1.41-.59l7.78-7.78 2.81-2.81c.8-.78.8-2.07 0-2.86zM5.41 20L4 18.59l7.72-7.72 1.47 1.35L5.41 20z\"/>\n",
              "  </svg>\n",
              "      </button>\n",
              "      \n",
              "  <style>\n",
              "    .colab-df-container {\n",
              "      display:flex;\n",
              "      flex-wrap:wrap;\n",
              "      gap: 12px;\n",
              "    }\n",
              "\n",
              "    .colab-df-convert {\n",
              "      background-color: #E8F0FE;\n",
              "      border: none;\n",
              "      border-radius: 50%;\n",
              "      cursor: pointer;\n",
              "      display: none;\n",
              "      fill: #1967D2;\n",
              "      height: 32px;\n",
              "      padding: 0 0 0 0;\n",
              "      width: 32px;\n",
              "    }\n",
              "\n",
              "    .colab-df-convert:hover {\n",
              "      background-color: #E2EBFA;\n",
              "      box-shadow: 0px 1px 2px rgba(60, 64, 67, 0.3), 0px 1px 3px 1px rgba(60, 64, 67, 0.15);\n",
              "      fill: #174EA6;\n",
              "    }\n",
              "\n",
              "    [theme=dark] .colab-df-convert {\n",
              "      background-color: #3B4455;\n",
              "      fill: #D2E3FC;\n",
              "    }\n",
              "\n",
              "    [theme=dark] .colab-df-convert:hover {\n",
              "      background-color: #434B5C;\n",
              "      box-shadow: 0px 1px 3px 1px rgba(0, 0, 0, 0.15);\n",
              "      filter: drop-shadow(0px 1px 2px rgba(0, 0, 0, 0.3));\n",
              "      fill: #FFFFFF;\n",
              "    }\n",
              "  </style>\n",
              "\n",
              "      <script>\n",
              "        const buttonEl =\n",
              "          document.querySelector('#df-d1efc2e3-d2e4-474d-8c06-9371b3ef2d7c button.colab-df-convert');\n",
              "        buttonEl.style.display =\n",
              "          google.colab.kernel.accessAllowed ? 'block' : 'none';\n",
              "\n",
              "        async function convertToInteractive(key) {\n",
              "          const element = document.querySelector('#df-d1efc2e3-d2e4-474d-8c06-9371b3ef2d7c');\n",
              "          const dataTable =\n",
              "            await google.colab.kernel.invokeFunction('convertToInteractive',\n",
              "                                                     [key], {});\n",
              "          if (!dataTable) return;\n",
              "\n",
              "          const docLinkHtml = 'Like what you see? Visit the ' +\n",
              "            '<a target=\"_blank\" href=https://colab.research.google.com/notebooks/data_table.ipynb>data table notebook</a>'\n",
              "            + ' to learn more about interactive tables.';\n",
              "          element.innerHTML = '';\n",
              "          dataTable['output_type'] = 'display_data';\n",
              "          await google.colab.output.renderOutput(dataTable, element);\n",
              "          const docLink = document.createElement('div');\n",
              "          docLink.innerHTML = docLinkHtml;\n",
              "          element.appendChild(docLink);\n",
              "        }\n",
              "      </script>\n",
              "    </div>\n",
              "  </div>\n",
              "  "
            ]
          },
          "metadata": {},
          "execution_count": 37
        }
      ]
    },
    {
      "cell_type": "code",
      "source": [
        "# Mudar coluna Ano para Datetime\n",
        "df[\"Ano\"] = pd.to_datetime(df[\"Ano\"], format=\"%Y\" )\n",
        "df[\"Ano\"] = df[\"Ano\"].dt.year\n",
        "\n",
        "# Definir coluna Ano como Index\n",
        "df = df.set_index(\"Ano\")\n"
      ],
      "metadata": {
        "id": "wdZ4GARkv4rK"
      },
      "execution_count": 38,
      "outputs": []
    },
    {
      "cell_type": "code",
      "source": [
        "# Visualizar tipos das colunas\n",
        "df.dtypes"
      ],
      "metadata": {
        "colab": {
          "base_uri": "https://localhost:8080/"
        },
        "id": "9c0NQZqPMrpo",
        "outputId": "3ff0c448-e23f-4c56-c739-84cc4f114e47"
      },
      "execution_count": 39,
      "outputs": [
        {
          "output_type": "execute_result",
          "data": {
            "text/plain": [
              "Alemanha           float64\n",
              "Áustria            float64\n",
              "Bélgica            float64\n",
              "Bulgária           float64\n",
              "Chipre             float64\n",
              "Croácia            float64\n",
              "Dinamarca          float64\n",
              "Eslováquia         float64\n",
              "Eslovénia          float64\n",
              "Espanha            float64\n",
              "Estónia            float64\n",
              "Finlândia          float64\n",
              "França             float64\n",
              "Grécia             float64\n",
              "Hungria            float64\n",
              "Irlanda            float64\n",
              "Itália             float64\n",
              "Letónia            float64\n",
              "Lituânia           float64\n",
              "Luxemburgo         float64\n",
              "Malta              float64\n",
              "Países_Baixos      float64\n",
              "Polónia            float64\n",
              "Portugal           float64\n",
              "República Checa    float64\n",
              "Roménia            float64\n",
              "Suécia             float64\n",
              "dtype: object"
            ]
          },
          "metadata": {},
          "execution_count": 39
        }
      ]
    },
    {
      "cell_type": "markdown",
      "source": [
        "Agora que os dados estão organizados de forma adequada, estamos prontos para iniciar a análise da dívida pública em Portugal e na Europa. "
      ],
      "metadata": {
        "id": "ouB9xxuA7Ubr"
      }
    },
    {
      "cell_type": "markdown",
      "source": [
        "# **A dívida pública em Portugal**"
      ],
      "metadata": {
        "id": "xmVd_lIzZcaJ"
      }
    },
    {
      "cell_type": "code",
      "source": [
        "# Mostrar dívida pública em Portugal\n",
        "df.Portugal"
      ],
      "metadata": {
        "colab": {
          "base_uri": "https://localhost:8080/"
        },
        "id": "OTC6ZIqR81E7",
        "outputId": "0a9c699f-c3f6-4554-fed6-eca31343b370"
      },
      "execution_count": 40,
      "outputs": [
        {
          "output_type": "execute_result",
          "data": {
            "text/plain": [
              "Ano\n",
              "2000     69.592\n",
              "2001     77.908\n",
              "2002     85.595\n",
              "2003     93.333\n",
              "2004    102.158\n",
              "2005    114.553\n",
              "2006    122.500\n",
              "2007    127.626\n",
              "2008    135.478\n",
              "2009    154.014\n",
              "2010    179.996\n",
              "2011    201.459\n",
              "2012    217.160\n",
              "2013    224.078\n",
              "2014    230.059\n",
              "2015    235.746\n",
              "2016    245.245\n",
              "2017    247.175\n",
              "2018    249.261\n",
              "2019    249.978\n",
              "2020    270.495\n",
              "Name: Portugal, dtype: float64"
            ]
          },
          "metadata": {},
          "execution_count": 40
        }
      ]
    },
    {
      "cell_type": "code",
      "source": [
        "# Calcular % de aumento da dívida pública\n",
        "dividaPT_2000 = df.loc[2000, \"Portugal\"]\n",
        "dividaPT_2020 = df.loc[2020, \"Portugal\"]\n",
        "var_percentual = (dividaPT_2020 - dividaPT_2000) / dividaPT_2000 * 100\n",
        "print(f\"A porcentagem de aumento da dívida pública de 2000 a 2020 é de {var_percentual:.2f}% \")\n",
        "print(f\"Corresponde a uma média ano de {var_percentual/20:.2f}%\")"
      ],
      "metadata": {
        "colab": {
          "base_uri": "https://localhost:8080/"
        },
        "id": "nrRKU6YSA2Uf",
        "outputId": "b600af59-1e6b-4319-e045-afe9c0325524"
      },
      "execution_count": 41,
      "outputs": [
        {
          "output_type": "stream",
          "name": "stdout",
          "text": [
            "A porcentagem de aumento da dívida pública de 2000 a 2020 é de 288.69% \n",
            "Corresponde a uma média ano de 14.43%\n"
          ]
        }
      ]
    },
    {
      "cell_type": "markdown",
      "source": [
        "Estes dados apresentam a evolução da dívida pública Portuguesa de 2000 até 2020. Podemos observar que existiu um aumento constante na dívida ao longo deste período, com um aumento de 69.592 milhões de Euros em 2000 para 270.495 milhões em 2020, um **aumento absoluto de 288.69% da dívida em Portugal**.\n",
        "\n",
        "Para avaliar verdadeiramente a magnitude deste aumento, vai ser necessário fazer-mos uma análise mais profunda, incluindo uma comparação com outros países da Europa, e uma consideração do crescimento econômico e da população em Portugal ao longo deste período."
      ],
      "metadata": {
        "id": "4caEHpQn89Xy"
      }
    },
    {
      "cell_type": "code",
      "source": [
        "# Criar gráfico de linhas da dívida pública Portuguesa\n",
        "fig, ax = plt.subplots(figsize=(8,5))\n",
        "ano = df.index\n",
        "plt.plot(df.Portugal, linewidth=2)\n",
        "\n",
        "# Adicionar rótulos aos eixos e um título ao gráfico\n",
        "plt.xlabel(\"Ano\")\n",
        "plt.ylabel(\"Dívida pública (em milhões de Euros)\")\n",
        "plt.title(\"Dívida pública em Portugal\", fontsize= 18)\n",
        "ax.set_frame_on(False)\n",
        "\n",
        "# Adicionar tickers anuais\n",
        "anos = df.index[::2] # seleciona apenas cada segundo ano\n",
        "ax.set_xticks(anos)\n",
        "ax.set_xticklabels(anos, rotation=0, ha='center')\n",
        "\n",
        "# Exiba o gráfico\n",
        "plt.show()"
      ],
      "metadata": {
        "colab": {
          "base_uri": "https://localhost:8080/",
          "height": 354
        },
        "id": "QC39rmHfOomk",
        "outputId": "597ab0ba-eeef-48dd-c4ae-4964b3640778"
      },
      "execution_count": 42,
      "outputs": [
        {
          "output_type": "display_data",
          "data": {
            "text/plain": [
              "<Figure size 576x360 with 1 Axes>"
            ],
            "image/png": "[encoded data removed]"
          },
          "metadata": {
            "needs_background": "light"
          }
        }
      ]
    },
    {
      "cell_type": "markdown",
      "source": [
        "Este gráfico de linhas mostra a evolução da dívida pública em Portugal entre 2000 e 2020. É possível observar claramente o aumento da dívida pública ao longo dos anos, começando em 69.592 milhões em 2000 e chegando a 270.495 milhões em 2020.\n",
        "\n",
        "É importante destacar que, em alguns anos, houve um aumento significativo da dívida, como em 2009, quando a dívida saltou de 135.478 milhões para 154.014 milhões, um **aumento de 13.67%**. Este crescimento teve diretamente ligado a crise mundial de 2008, e para Portugal conseguir sustentar a economia e impedir uma crise financeira ainda mais grave, o governo Português teve que aumentar a dívida para conseguir sustentar a economia e garantir a estabilidade financeira. Este aumento, podemos observar que embora em aumentos menores, prolongou-se até ao ano 2012.\n",
        "\n",
        "Já em 2020, podemos observar outro grande aumento da dívida pública. Este aumento teve diretamente ligado a grave crise mundial de Covid-19. Irá certamente ser quase obrigatório perceber, como o governo vai lidar com esta situação, e se vai continuar um aumento desenfriado da dívida pública para conseguir sustentar a economia Portuguesa.\n",
        "De acordo com o jornal [Expresso](https://expresso.pt/economia/2022-02-01-divida-publica-desce-para-1275-do-pib-em-2021), a **dívida Portuguesa em 2021, foi reduzida em 0.9 milhões de euros**, ou seja, a dívida diminuiu aproximadamente 0.33%. Isto sugere que o governo está a adotar medidas eficazes para lidar com a crise de 2020. Mas será necessário dados do ano de 2022 para conseguirmor fazer uma análise sobre a redução da dívida.\n",
        "\n",
        "Vamos importar dados do PIB de Portugal nestes anos para fazer-mos uma comparação entre o crescimento do PIB e da dívida pública."
      ],
      "metadata": {
        "id": "F4KzHgULFce2"
      }
    },
    {
      "cell_type": "markdown",
      "source": [
        "## **Crescimento de PIB em Portugal**"
      ],
      "metadata": {
        "id": "HP6wH9fhZkAy"
      }
    },
    {
      "cell_type": "code",
      "source": [
        "# Importar dataframe do PIB em Portugal de 2000 a 2020\n",
        "df_PIB = pd.read_csv(\"https://raw.githubusercontent.com/nunobriito/Artigos/main/PIB%20em%20Portugal.csv\", sep=\";\")\n",
        "\n",
        "# Mudar coluna Ano para Datetime\n",
        "df_PIB[\"Ano\"] = pd.to_datetime(df_PIB[\"Ano\"], format=\"%Y\" )\n",
        "df_PIB[\"Ano\"] = df_PIB[\"Ano\"].dt.year\n",
        "\n",
        "# Definir coluna Ano como Index\n",
        "df_PIB = df_PIB.set_index(\"Ano\")\n",
        "\n",
        "# Visualizar PIB em Portugal\n",
        "df_PIB"
      ],
      "metadata": {
        "colab": {
          "base_uri": "https://localhost:8080/",
          "height": 739
        },
        "id": "pogwiIYBGqt2",
        "outputId": "3385e357-289b-4b50-a3e2-7a2fd1b04465"
      },
      "execution_count": 43,
      "outputs": [
        {
          "output_type": "execute_result",
          "data": {
            "text/plain": [
              "      Crescimento_PIB\n",
              "Ano                  \n",
              "2000             3.82\n",
              "2001             1.94\n",
              "2002             0.77\n",
              "2003            -0.93\n",
              "2004             1.79\n",
              "2005             0.78\n",
              "2006             1.63\n",
              "2007             2.51\n",
              "2008             0.32\n",
              "2009            -3.12\n",
              "2010             1.74\n",
              "2011            -1.70\n",
              "2012            -4.06\n",
              "2013            -0.92\n",
              "2014             0.79\n",
              "2015             1.79\n",
              "2016             2.02\n",
              "2017             3.51\n",
              "2018             2.85\n",
              "2019             2.68\n",
              "2020            -8.30"
            ],
            "text/html": [
              "\n",
              "  <div id=\"df-54dd0b73-af5f-4d75-8fec-ceae8efce91f\">\n",
              "    <div class=\"colab-df-container\">\n",
              "      <div>\n",
              "<style scoped>\n",
              "    .dataframe tbody tr th:only-of-type {\n",
              "        vertical-align: middle;\n",
              "    }\n",
              "\n",
              "    .dataframe tbody tr th {\n",
              "        vertical-align: top;\n",
              "    }\n",
              "\n",
              "    .dataframe thead th {\n",
              "        text-align: right;\n",
              "    }\n",
              "</style>\n",
              "<table border=\"1\" class=\"dataframe\">\n",
              "  <thead>\n",
              "    <tr style=\"text-align: right;\">\n",
              "      <th></th>\n",
              "      <th>Crescimento_PIB</th>\n",
              "    </tr>\n",
              "    <tr>\n",
              "      <th>Ano</th>\n",
              "      <th></th>\n",
              "    </tr>\n",
              "  </thead>\n",
              "  <tbody>\n",
              "    <tr>\n",
              "      <th>2000</th>\n",
              "      <td>3.82</td>\n",
              "    </tr>\n",
              "    <tr>\n",
              "      <th>2001</th>\n",
              "      <td>1.94</td>\n",
              "    </tr>\n",
              "    <tr>\n",
              "      <th>2002</th>\n",
              "      <td>0.77</td>\n",
              "    </tr>\n",
              "    <tr>\n",
              "      <th>2003</th>\n",
              "      <td>-0.93</td>\n",
              "    </tr>\n",
              "    <tr>\n",
              "      <th>2004</th>\n",
              "      <td>1.79</td>\n",
              "    </tr>\n",
              "    <tr>\n",
              "      <th>2005</th>\n",
              "      <td>0.78</td>\n",
              "    </tr>\n",
              "    <tr>\n",
              "      <th>2006</th>\n",
              "      <td>1.63</td>\n",
              "    </tr>\n",
              "    <tr>\n",
              "      <th>2007</th>\n",
              "      <td>2.51</td>\n",
              "    </tr>\n",
              "    <tr>\n",
              "      <th>2008</th>\n",
              "      <td>0.32</td>\n",
              "    </tr>\n",
              "    <tr>\n",
              "      <th>2009</th>\n",
              "      <td>-3.12</td>\n",
              "    </tr>\n",
              "    <tr>\n",
              "      <th>2010</th>\n",
              "      <td>1.74</td>\n",
              "    </tr>\n",
              "    <tr>\n",
              "      <th>2011</th>\n",
              "      <td>-1.70</td>\n",
              "    </tr>\n",
              "    <tr>\n",
              "      <th>2012</th>\n",
              "      <td>-4.06</td>\n",
              "    </tr>\n",
              "    <tr>\n",
              "      <th>2013</th>\n",
              "      <td>-0.92</td>\n",
              "    </tr>\n",
              "    <tr>\n",
              "      <th>2014</th>\n",
              "      <td>0.79</td>\n",
              "    </tr>\n",
              "    <tr>\n",
              "      <th>2015</th>\n",
              "      <td>1.79</td>\n",
              "    </tr>\n",
              "    <tr>\n",
              "      <th>2016</th>\n",
              "      <td>2.02</td>\n",
              "    </tr>\n",
              "    <tr>\n",
              "      <th>2017</th>\n",
              "      <td>3.51</td>\n",
              "    </tr>\n",
              "    <tr>\n",
              "      <th>2018</th>\n",
              "      <td>2.85</td>\n",
              "    </tr>\n",
              "    <tr>\n",
              "      <th>2019</th>\n",
              "      <td>2.68</td>\n",
              "    </tr>\n",
              "    <tr>\n",
              "      <th>2020</th>\n",
              "      <td>-8.30</td>\n",
              "    </tr>\n",
              "  </tbody>\n",
              "</table>\n",
              "</div>\n",
              "      <button class=\"colab-df-convert\" onclick=\"convertToInteractive('df-54dd0b73-af5f-4d75-8fec-ceae8efce91f')\"\n",
              "              title=\"Convert this dataframe to an interactive table.\"\n",
              "              style=\"display:none;\">\n",
              "        \n",
              "  <svg xmlns=\"http://www.w3.org/2000/svg\" height=\"24px\"viewBox=\"0 0 24 24\"\n",
              "       width=\"24px\">\n",
              "    <path d=\"M0 0h24v24H0V0z\" fill=\"none\"/>\n",
              "    <path d=\"M18.56 5.44l.94 2.06.94-2.06 2.06-.94-2.06-.94-.94-2.06-.94 2.06-2.06.94zm-11 1L8.5 8.5l.94-2.06 2.06-.94-2.06-.94L8.5 2.5l-.94 2.06-2.06.94zm10 10l.94 2.06.94-2.06 2.06-.94-2.06-.94-.94-2.06-.94 2.06-2.06.94z\"/><path d=\"M17.41 7.96l-1.37-1.37c-.4-.4-.92-.59-1.43-.59-.52 0-1.04.2-1.43.59L10.3 9.45l-7.72 7.72c-.78.78-.78 2.05 0 2.83L4 21.41c.39.39.9.59 1.41.59.51 0 1.02-.2 1.41-.59l7.78-7.78 2.81-2.81c.8-.78.8-2.07 0-2.86zM5.41 20L4 18.59l7.72-7.72 1.47 1.35L5.41 20z\"/>\n",
              "  </svg>\n",
              "      </button>\n",
              "      \n",
              "  <style>\n",
              "    .colab-df-container {\n",
              "      display:flex;\n",
              "      flex-wrap:wrap;\n",
              "      gap: 12px;\n",
              "    }\n",
              "\n",
              "    .colab-df-convert {\n",
              "      background-color: #E8F0FE;\n",
              "      border: none;\n",
              "      border-radius: 50%;\n",
              "      cursor: pointer;\n",
              "      display: none;\n",
              "      fill: #1967D2;\n",
              "      height: 32px;\n",
              "      padding: 0 0 0 0;\n",
              "      width: 32px;\n",
              "    }\n",
              "\n",
              "    .colab-df-convert:hover {\n",
              "      background-color: #E2EBFA;\n",
              "      box-shadow: 0px 1px 2px rgba(60, 64, 67, 0.3), 0px 1px 3px 1px rgba(60, 64, 67, 0.15);\n",
              "      fill: #174EA6;\n",
              "    }\n",
              "\n",
              "    [theme=dark] .colab-df-convert {\n",
              "      background-color: #3B4455;\n",
              "      fill: #D2E3FC;\n",
              "    }\n",
              "\n",
              "    [theme=dark] .colab-df-convert:hover {\n",
              "      background-color: #434B5C;\n",
              "      box-shadow: 0px 1px 3px 1px rgba(0, 0, 0, 0.15);\n",
              "      filter: drop-shadow(0px 1px 2px rgba(0, 0, 0, 0.3));\n",
              "      fill: #FFFFFF;\n",
              "    }\n",
              "  </style>\n",
              "\n",
              "      <script>\n",
              "        const buttonEl =\n",
              "          document.querySelector('#df-54dd0b73-af5f-4d75-8fec-ceae8efce91f button.colab-df-convert');\n",
              "        buttonEl.style.display =\n",
              "          google.colab.kernel.accessAllowed ? 'block' : 'none';\n",
              "\n",
              "        async function convertToInteractive(key) {\n",
              "          const element = document.querySelector('#df-54dd0b73-af5f-4d75-8fec-ceae8efce91f');\n",
              "          const dataTable =\n",
              "            await google.colab.kernel.invokeFunction('convertToInteractive',\n",
              "                                                     [key], {});\n",
              "          if (!dataTable) return;\n",
              "\n",
              "          const docLinkHtml = 'Like what you see? Visit the ' +\n",
              "            '<a target=\"_blank\" href=https://colab.research.google.com/notebooks/data_table.ipynb>data table notebook</a>'\n",
              "            + ' to learn more about interactive tables.';\n",
              "          element.innerHTML = '';\n",
              "          dataTable['output_type'] = 'display_data';\n",
              "          await google.colab.output.renderOutput(dataTable, element);\n",
              "          const docLink = document.createElement('div');\n",
              "          docLink.innerHTML = docLinkHtml;\n",
              "          element.appendChild(docLink);\n",
              "        }\n",
              "      </script>\n",
              "    </div>\n",
              "  </div>\n",
              "  "
            ]
          },
          "metadata": {},
          "execution_count": 43
        }
      ]
    },
    {
      "cell_type": "markdown",
      "source": [
        "Este conjunto de dados apresenta o crescimento do Produto Interno Bruto (PIB) em Portugal entre 2000 e 2020. O **PIB** é uma medida ampla da economia de um país e representa a soma de todos os bens e serviços finais produzidos em um determinado período de tempo. Ele é amplamente utilizado para avaliar o desempenho econômico de um país.\n",
        "\n",
        "Analisando os dados, podemos ver que o crescimento do PIB em Portugal foi variável ao longo dos anos, com picos positivos em alguns anos e retrações em outros. Em particular, notamos uma grande retração em 2009, durante a crise financeira global, com uma queda de 3,12%. Além disso, houve outra retração significativa em 2020, com uma queda de 8,30%, devido à pandemia de COVID-19.\n",
        "\n",
        "Em geral, estes dados fornecem uma visão geral do desempenho econômico de Portugal e sua volatilidade ao longo dos anos. Isso pode ser útil para avaliar as políticas econômicas adotadas pelo governo e para fazer previsões sobre o desenvolvimento econômico futuro do país."
      ],
      "metadata": {
        "id": "NZsrzxKbNVia"
      }
    },
    {
      "cell_type": "code",
      "source": [
        "# Criar coluna do PIB acumulado\n",
        "df_PIB[\"PIB_acumulado\"] = df_PIB[\"Crescimento_PIB\"].cumsum()\n",
        "\n",
        "# Plot do gráfico de linhas\n",
        "fig, ax = plt.subplots(figsize=(8,5))\n",
        "plt.plot(df_PIB.index, df_PIB[\"PIB_acumulado\"])\n",
        "\n",
        "# Adicionar título e nome de eixos\n",
        "plt.title(\"Crescimento do PIB em Portugal de 2000 a 2020\", fontsize=15)\n",
        "plt.xlabel(\"Ano\")\n",
        "plt.ylabel(\"Crescimento do PIB (%)\")\n",
        "ax.set_frame_on(False)\n",
        "\n",
        "# Adicionar tickers anuais\n",
        "ax.set_xticks(anos)\n",
        "ax.set_xticklabels(anos, rotation=0, ha='center')\n",
        "\n",
        "# Mostrar gráfico\n",
        "plt.show()\n",
        "\n",
        "\n"
      ],
      "metadata": {
        "colab": {
          "base_uri": "https://localhost:8080/",
          "height": 352
        },
        "id": "xtyunwtaQTH2",
        "outputId": "8f1a11a6-f824-4fa5-a920-2b54ff438485"
      },
      "execution_count": 44,
      "outputs": [
        {
          "output_type": "display_data",
          "data": {
            "text/plain": [
              "<Figure size 576x360 with 1 Axes>"
            ],
            "image/png": "[encoded data removed]"
          },
          "metadata": {
            "needs_background": "light"
          }
        }
      ]
    },
    {
      "cell_type": "markdown",
      "source": [
        "O gráfico apresenta a variação do crescimento do PIB em Portugal de 2000 a 2020. Há flutuações ao longo dos anos, com **picos positivos em 2007 e 2018 e quedas significativas em 2008 e 2012**. Como mencionado anteriormente, a queda do PIB de Portugal foi impactado pela crise mundial de 2008. Em 2009, houve um aumento do PIB de 1,74%, mas no ano seguinte, em 2010, a economia portuguesa voltou a registrar uma queda de 1,70%.\n",
        "\n",
        "Essas flutuações no PIB demonstram a instabilidade econômica que o país enfrentou nesse período. O aumento da dívida pode ter sido necessário para ajudar a sustentar a economia e manter o país em funcionamento, mas também pode ter impactado negativamente a situação financeira de Portugal a longo prazo.\n"
      ],
      "metadata": {
        "id": "TBQzhbfGNv5U"
      }
    },
    {
      "cell_type": "markdown",
      "source": [
        "## **Dívida pública X PIB**"
      ],
      "metadata": {
        "id": "R-ikbkZCZsit"
      }
    },
    {
      "cell_type": "markdown",
      "source": [
        "A dívida pública e o PIB são duas medidas importantes para avaliar a saúde econômica de um país. Ao comparar a dívida pública com o PIB, é possível avaliar se a economia de um país está a crescer de forma saudável e sustentável. Se a dívida pública crescer mais rápido do que o PIB, pode ser sinal de que a economia está menos saudável e que o país está a ficar mais endividado. Por outro lado, se o PIB estiver a crescer mais rápido que a dívida pública, pode ser sinal de que a economia está a ficar mais forte e que o país está menos endividado.\n",
        "\n",
        "Em resumo, a comparação entre a dívida pública e o PIB é importante para avaliar a saúde econômica de um país e para tomar decisões estratégicas sobre o futuro econômico do país."
      ],
      "metadata": {
        "id": "-2wtj26jZ1WY"
      }
    },
    {
      "cell_type": "code",
      "source": [
        "# Média de crescimento da dívida em Portugal\n",
        "crescimento_divida = var_percentual/20\n",
        "print(f\"Crescimento da dívida:\\t {crescimento_divida:.2f}%\")\n",
        "# Média de crescimento do PIB em Portugal\n",
        "print(f\"Crescimento do PIB:\\t{df_PIB.Crescimento_PIB.mean():.2f}%\")\n",
        "\n"
      ],
      "metadata": {
        "colab": {
          "base_uri": "https://localhost:8080/"
        },
        "id": "bpmSLFOPW8DS",
        "outputId": "85f2dfde-a4da-402a-c6d5-f491f19ca857"
      },
      "execution_count": 45,
      "outputs": [
        {
          "output_type": "stream",
          "name": "stdout",
          "text": [
            "Crescimento da dívida:\t 14.43%\n",
            "Crescimento do PIB:\t0.47%\n"
          ]
        }
      ]
    },
    {
      "cell_type": "markdown",
      "source": [
        "**A diferença entre o crescimento da dívida e o crescimento do PIB é enorme**. Enquanto a dívida apresenta um crescimento de 14,43% ao ano em média, o PIB apenas cresceu 0.47%. Isso indica que a economia está se expandir de forma muito lenta, enquanto a dívida está a crescer muito rápido.\n",
        "\n",
        "Esse desequilíbrio pode ser preocupante para o futuro, pois a dívida é uma forma de endividamento e pode afetar negativamente a economia. Além disso, **a diferença entre o crescimento da dívida e o crescimento do PIB pode ser um indicativo de que o país está a ter dificuldades em gerar receita suficiente para pagar as dívidas**.\n",
        "\n",
        "Para garantir um futuro financeiro saudável, é importante que medidas sejam tomadas para aumentar o crescimento econômico e controlar a dívida. Isso pode incluir políticas fiscais responsáveis, investimentos em setores estratégicos e medidas para estimular o crescimento econômico.\n",
        "\n",
        "**Em resumo, a diferença absurda entre o crescimento da dívida e o crescimento do PIB é um sinal de que algo está errado e precisa ser corrigido para garantir um futuro financeiro estável em Portugal**."
      ],
      "metadata": {
        "id": "yT_k76QVYqvy"
      }
    },
    {
      "cell_type": "code",
      "source": [
        "# Criar gráfico de comparaçao entre PIB e Dívida\n",
        "fig, ax = plt.subplots(figsize=(8,5))\n",
        "ano = df.index\n",
        "\n",
        "# Cria variavel de crescimento da divida em porcentagem acumulado\n",
        "crescimento_divida_pct = df.Portugal.pct_change() * 100\n",
        "crescimento_divida_pct = crescimento_divida_pct.cumsum()\n",
        "crescimento_divida_pct\n",
        "\n",
        "# Criar o gráfico\n",
        "plt.plot(crescimento_divida_pct, color=\"Red\")\n",
        "plt.plot(df_PIB.index, df_PIB[\"PIB_acumulado\"], color=\"Green\")\n",
        "\n",
        "# Adicionar rótulos aos eixos e um título ao gráfico\n",
        "plt.xlabel(\"Ano\")\n",
        "plt.ylabel(\"Crescimento porcentual da dívida x PIB\")\n",
        "plt.title(\"Dívida pública x PIB em Portugal\", fontsize= 18)\n",
        "ax.set_frame_on(False)\n",
        "\n",
        "# Adicionar tickers anuais\n",
        "ax.set_xticks(anos)\n",
        "ax.set_xticklabels(anos, rotation=0, ha='center')\n",
        "# Guardar gráfico como PNG\n",
        "plt.savefig('Dívida Publica X PIB em Portugal.JPEG')\n",
        "\n",
        "# Exiba o gráfico\n",
        "plt.show()\n"
      ],
      "metadata": {
        "colab": {
          "base_uri": "https://localhost:8080/",
          "height": 354
        },
        "id": "OWgFpkuUawT8",
        "outputId": "c7bc2a49-6679-4a83-a8cc-e4bdf0350972"
      },
      "execution_count": 62,
      "outputs": [
        {
          "output_type": "display_data",
          "data": {
            "text/plain": [
              "<Figure size 576x360 with 1 Axes>"
            ],
            "image/png": "[encoded data removed]"
          },
          "metadata": {
            "needs_background": "light"
          }
        }
      ]
    },
    {
      "cell_type": "code",
      "source": [
        "print(crescimento_divida_pct)\n",
        "\n",
        "print(df_PIB[\"PIB_acumulado\"])"
      ],
      "metadata": {
        "colab": {
          "base_uri": "https://localhost:8080/"
        },
        "id": "OZNwLxTC7JKN",
        "outputId": "e368a065-3974-4968-c48c-082e72012025"
      },
      "execution_count": 64,
      "outputs": [
        {
          "output_type": "stream",
          "name": "stdout",
          "text": [
            "Ano\n",
            "2000           NaN\n",
            "2001     11.949649\n",
            "2002     21.816415\n",
            "2003     30.856663\n",
            "2004     40.312054\n",
            "2005     52.445220\n",
            "2006     59.382620\n",
            "2007     63.567110\n",
            "2008     69.719462\n",
            "2009     83.401388\n",
            "2010    100.271283\n",
            "2011    112.195437\n",
            "2012    119.989082\n",
            "2013    123.174751\n",
            "2014    125.843911\n",
            "2015    128.315886\n",
            "2016    132.345223\n",
            "2017    133.132191\n",
            "2018    133.976127\n",
            "2019    134.263777\n",
            "2020    142.471300\n",
            "Name: Portugal, dtype: float64\n",
            "Ano\n",
            "2000     3.82\n",
            "2001     5.76\n",
            "2002     6.53\n",
            "2003     5.60\n",
            "2004     7.39\n",
            "2005     8.17\n",
            "2006     9.80\n",
            "2007    12.31\n",
            "2008    12.63\n",
            "2009     9.51\n",
            "2010    11.25\n",
            "2011     9.55\n",
            "2012     5.49\n",
            "2013     4.57\n",
            "2014     5.36\n",
            "2015     7.15\n",
            "2016     9.17\n",
            "2017    12.68\n",
            "2018    15.53\n",
            "2019    18.21\n",
            "2020     9.91\n",
            "Name: PIB_acumulado, dtype: float64\n"
          ]
        }
      ]
    },
    {
      "cell_type": "markdown",
      "source": [
        "Este gráfico de linhas mostra o crescimento da dívida pública e do PIB em Portugal de 2000 a 2020.\n",
        "\n",
        "Observamos que a dívida pública cresceu significativamente ao longo dos anos, passando de 69.592 Milhões em 2000 para 270.495 Milhões em 2020, representando um aumento acumulativo de 142.47% . Já o PIB apresentou uma tendência mais instável, com alguns anos de crescimento positivo, como em 2004 e 2006, mas também com anos de queda significativa, como em 2009. Em 2020, o PIB apresentou uma queda de   8.3%, o que reflete o impacto da pandemia de COVID-19 na economia.\n",
        "\n",
        "\n"
      ],
      "metadata": {
        "id": "nf40bTs-L6i1"
      }
    },
    {
      "cell_type": "markdown",
      "source": [
        "# **Dívida Pública na Europa**"
      ],
      "metadata": {
        "id": "lE3Eab0aoIlp"
      }
    },
    {
      "cell_type": "markdown",
      "source": [
        "Vamos fazer uma análise da dívida pública na Europa para conseguirmos ter um termo de comparação da dívida Portuguesa. "
      ],
      "metadata": {
        "id": "4Ck7oG3voxi8"
      }
    },
    {
      "cell_type": "code",
      "source": [
        "# Visualizar dívida pública na Europa em 2020\n",
        "divida_EU = df.loc[2020].sort_values(ascending=False)\n",
        "divida_EU"
      ],
      "metadata": {
        "colab": {
          "base_uri": "https://localhost:8080/"
        },
        "id": "BEmkzC61opxR",
        "outputId": "22d6cbf2-6361-45ab-ff6a-4ab9422775c5"
      },
      "execution_count": 46,
      "outputs": [
        {
          "output_type": "execute_result",
          "data": {
            "text/plain": [
              "França             2656.153\n",
              "Itália             2572.757\n",
              "Alemanha           2315.216\n",
              "Espanha            1345.786\n",
              "Bélgica             515.168\n",
              "Países_Baixos       435.459\n",
              "Grécia              341.153\n",
              "Áustria             315.980\n",
              "Polónia             293.124\n",
              "Portugal            270.495\n",
              "Irlanda             217.742\n",
              "Suécia              198.526\n",
              "Finlândia           177.940\n",
              "Dinamarca           131.824\n",
              "Hungria             105.495\n",
              "Roménia             102.678\n",
              "República Checa      81.923\n",
              "Eslováquia           55.023\n",
              "Croácia              43.781\n",
              "Eslovénia            37.423\n",
              "Chipre               24.852\n",
              "Lituânia             23.062\n",
              "Luxemburgo           15.874\n",
              "Bulgária             15.132\n",
              "Letónia              12.711\n",
              "Malta                 6.975\n",
              "Estónia               5.094\n",
              "Name: 2020, dtype: float64"
            ]
          },
          "metadata": {},
          "execution_count": 46
        }
      ]
    },
    {
      "cell_type": "code",
      "source": [
        "# Criar gráfico da dívida na Europa\n",
        "fig, ax = plt.subplots(figsize=(20,10))\n",
        "divida_EU.sort_values(ascending=False).plot.bar()\n",
        "\n",
        "# Destacar barra Portugal em outra cor\n",
        "ax.bar(divida_EU.index.get_loc(\"Portugal\"), divida_EU.loc[\"Portugal\"], color=\"green\",width=0.5)\n",
        "\n",
        "# Adicionar rótulos aos eixos e um título ao gráfico\n",
        "plt.xlabel(\"Países Europeus\")\n",
        "plt.ylabel(\"Dívida pública(em milhões de euros)\")\n",
        "plt.title(\"Dívida pública atual na Europa \", fontsize= 18)\n",
        "ax.set_frame_on(False)\n",
        "plt.show()"
      ],
      "metadata": {
        "colab": {
          "base_uri": "https://localhost:8080/",
          "height": 699
        },
        "id": "p9KNy6d2_scq",
        "outputId": "48eaa97c-86ca-4527-f71f-ee310dfad14a"
      },
      "execution_count": 47,
      "outputs": [
        {
          "output_type": "display_data",
          "data": {
            "text/plain": [
              "<Figure size 1440x720 with 1 Axes>"
            ],
            "image/png": "[encoded data removed]"
          },
          "metadata": {
            "needs_background": "light"
          }
        }
      ]
    },
    {
      "cell_type": "markdown",
      "source": [
        "De acordo com os dados disponíveis, a França é o país com a maior dívida pública na Europa, totalizando 2656.153 bilhões de euros, seguida pela Itália, com 2572.757 bilhões de euros, e pela Alemanha, com 2315.216 bilhões de euros. Em contrapartida, a Estônia é o país com a menor dívida pública, com um total de 5.094 bilhões de euros.\n",
        "\n",
        "No entanto, é importante destacar que a análise isolada da dívida pública não é suficiente para compreender a realidade financeira dos países, pois fatores como população e PIB podem influenciar significativamente no endividamento. Desse modo, é necessário avaliar esses dados em conjunto para uma compreensão mais precisa da situação de cada país.\n",
        "\n",
        "\n",
        "\n"
      ],
      "metadata": {
        "id": "CzBLcZXXoQpV"
      }
    },
    {
      "cell_type": "markdown",
      "source": [
        "## **Comparação da dívida pública na Europa com Portugal**"
      ],
      "metadata": {
        "id": "sUl37v5N_K9g"
      }
    },
    {
      "cell_type": "markdown",
      "source": [
        "Para analisar Portugal, é importante compará-lo com os outros países na lista e verificar como sua taxa de crescimento da dívida pública se compara com a média dos países. "
      ],
      "metadata": {
        "id": "6ClaVjys_j6r"
      }
    },
    {
      "cell_type": "code",
      "source": [
        "# Calcular a variação percentual da dívida pública na Europa\n",
        "var_pct_eu = df.pct_change() * 100\n",
        "var_pct_eu = var_pct_eu.mean().sort_values(ascending=False)\n",
        "print(f\"Variação percentual ano:\\n{var_pct_eu}\\n\\nValores acumulados: \\n{var_pct_eu * 20}\")"
      ],
      "metadata": {
        "colab": {
          "base_uri": "https://localhost:8080/"
        },
        "id": "pNr2FOz07z3K",
        "outputId": "442c991e-78eb-4ebb-fd66-592e74062b17"
      },
      "execution_count": 48,
      "outputs": [
        {
          "output_type": "stream",
          "name": "stdout",
          "text": [
            "Variação percentual ano:\n",
            "Estónia            17.499899\n",
            "Letónia            16.173198\n",
            "Roménia            15.020283\n",
            "Luxemburgo         13.099458\n",
            "Lituânia           11.730541\n",
            "República Checa    11.013987\n",
            "Eslovénia          10.735472\n",
            "Irlanda            10.129176\n",
            "Croácia             8.733759\n",
            "Eslováquia          8.706831\n",
            "Polónia             7.692693\n",
            "Chipre              7.676515\n",
            "Portugal            7.123565\n",
            "Hungria             7.101191\n",
            "Espanha             6.916617\n",
            "França              5.801199\n",
            "Finlândia           5.630756\n",
            "Malta               5.104513\n",
            "Grécia              4.438561\n",
            "Áustria             4.199846\n",
            "Países_Baixos       3.380794\n",
            "Itália              3.274553\n",
            "Alemanha            3.236899\n",
            "Bulgária            3.213440\n",
            "Bélgica             3.117895\n",
            "Dinamarca           2.277120\n",
            "Suécia              2.150440\n",
            "dtype: float64\n",
            "\n",
            "Valores acumulados: \n",
            "Estónia            349.997989\n",
            "Letónia            323.463960\n",
            "Roménia            300.405662\n",
            "Luxemburgo         261.989163\n",
            "Lituânia           234.610820\n",
            "República Checa    220.279743\n",
            "Eslovénia          214.709442\n",
            "Irlanda            202.583524\n",
            "Croácia            174.675178\n",
            "Eslováquia         174.136617\n",
            "Polónia            153.853860\n",
            "Chipre             153.530294\n",
            "Portugal           142.471300\n",
            "Hungria            142.023815\n",
            "Espanha            138.332349\n",
            "França             116.023990\n",
            "Finlândia          112.615129\n",
            "Malta              102.090263\n",
            "Grécia              88.771223\n",
            "Áustria             83.996916\n",
            "Países_Baixos       67.615872\n",
            "Itália              65.491060\n",
            "Alemanha            64.737982\n",
            "Bulgária            64.268793\n",
            "Bélgica             62.357894\n",
            "Dinamarca           45.542390\n",
            "Suécia              43.008805\n",
            "dtype: float64\n"
          ]
        }
      ]
    },
    {
      "cell_type": "markdown",
      "source": [
        "De acordo com os dados, Portugal tem uma taxa de crescimento da dívida pública de 7,12%. Isso significa que, a cada ano, a dívida pública de Portugal aumenta em 7,12%. Em comparação com a média dos países na lista, que é de 6,35%, **Portugal tem uma taxa de crescimento da dívida pública acima da média**.\n",
        "\n",
        "Para além desta análise é importante destacar que alguns países têm taxas de crescimento da dívida pública muito elevadas, como a Romênia, a Letônia e a Estônia, que têm taxas acima de 15%. Isso pode ser um indicador de problemas financeiros graves em cada um desses países.\n",
        "\n",
        "A maioria dos países na Europa apresenta um aumento na sua dívida pública, com uma variação entre 3% a 8% ao longo dos anos. Entretanto, há países que apresentam uma situação diferentes, com crescimento significativamente menor na sua dívida. Países como Suécia, Dinamarca, Bélgica, Bulgária, Alemanha, Itália e Países Baixos têm uma variação percentual na sua dívida pública que oscila entre 2% a 3%, o que é considerado um valor menor em comparação à média da Europa."
      ],
      "metadata": {
        "id": "n50XYBDb_nNX"
      }
    },
    {
      "cell_type": "code",
      "source": [
        "# Criar gráfico da média de aumento porcentual da dívida na Europa\n",
        "fig, ax = plt.subplots(figsize=(20,10))\n",
        "var_pct_eu.plot.bar()\n",
        "\n",
        "# Destacar Portugal com outra cor\n",
        "ax.bar(var_pct_eu.index.get_loc(\"Portugal\"), var_pct_eu.loc[\"Portugal\"], color=\"green\",width=0.5)\n",
        "\n",
        "# Adicionar rótulos aos eixos e um título ao gráfico\n",
        "plt.xlabel(\"Países Europeus\")\n",
        "plt.ylabel(\"Aumento em % da dívida\")\n",
        "plt.title(\"Média de aumento % da dívida pública na Europa (ano a ano)\", fontsize= 18)\n",
        "ax.set_frame_on(False)\n",
        "plt.show()"
      ],
      "metadata": {
        "colab": {
          "base_uri": "https://localhost:8080/",
          "height": 699
        },
        "id": "NWoDLnI_8lHT",
        "outputId": "fcd1d319-3d00-47f7-8711-5113ba52e0c0"
      },
      "execution_count": 49,
      "outputs": [
        {
          "output_type": "display_data",
          "data": {
            "text/plain": [
              "<Figure size 1440x720 with 1 Axes>"
            ],
            "image/png": "[encoded data removed]"
          },
          "metadata": {
            "needs_background": "light"
          }
        }
      ]
    },
    {
      "cell_type": "markdown",
      "source": [
        "Em geral, o gráfico fornece uma visão geral da situação financeira de cada país e permite uma comparação rápida e fácil das taxas de crescimento da dívida pública. É uma ferramenta útil para analisar a situação financeira de Portugal e compará-la com a de outros países na Europa."
      ],
      "metadata": {
        "id": "59QS2-vL_8xM"
      }
    },
    {
      "cell_type": "markdown",
      "source": [
        "# **Dívida per capita**"
      ],
      "metadata": {
        "id": "xKrqHGcl7I7H"
      }
    },
    {
      "cell_type": "markdown",
      "source": [
        "A análise da dívida per capita tem como objetivo avaliar o nível de endividamento de cada habitante em um determinado país. A dívida per capita é obtida dividindo-se a dívida total do país pelo número de habitantes. Este indicador é importante para avaliar a capacidade de pagamento de uma nação, bem como para comparar a situação financeira de diferentes países.\n",
        "\n",
        "A análise da dívida per capita permite entender a carga financeira que cada habitante suporta, bem como a capacidade de pagamento da nação como um todo. Além disso, o indicador pode ser utilizado para avaliar a viabilidade de políticas fiscais, identificar riscos financeiros e estabelecer metas para o equilíbrio das contas públicas.\n",
        "\n",
        "Ao comparar a dívida per capita entre diferentes países, é possível identificar tendências e padrões que possam ser relevantes para a tomada de decisão em relação à gestão da dívida pública. Além disso, é possível avaliar a capacidade de um país de arcar com suas dívidas e seu potencial de investimento futuro.\n",
        "\n",
        "Vamos agora importar um novo dataframe que comtém informações sobre a população na Europa. Este dataframe será utilizado para calcular a dívida per capita. Antes de continuar vamos proceder a um tratamento destes dados para não lidarmos com problemas no dataframe."
      ],
      "metadata": {
        "id": "YS8QAMdQD23f"
      }
    },
    {
      "cell_type": "code",
      "source": [
        "# Importar dataset da população na Europa\n",
        "df_populacao = pd.read_csv(\"https://raw.githubusercontent.com/nunobriito/Artigos/main/Popula%C3%A7%C3%A3o%20na%20Europa.csv\", sep=\";\")"
      ],
      "metadata": {
        "id": "YuagkaVzM0hY"
      },
      "execution_count": 50,
      "outputs": []
    },
    {
      "cell_type": "code",
      "source": [
        "# Visualizar as 5 primeiras entradas\n",
        "df_populacao.head()"
      ],
      "metadata": {
        "id": "Aj-VU_zONJrI",
        "colab": {
          "base_uri": "https://localhost:8080/",
          "height": 317
        },
        "outputId": "2cadb612-3ea2-4be4-fe78-130c9a2ff388"
      },
      "execution_count": 51,
      "outputs": [
        {
          "output_type": "execute_result",
          "data": {
            "text/plain": [
              "    Ano  Alemanha  Áustria  Bélgica  Bulgária  Chipre  Croácia  Dinamarca  \\\n",
              "0  2000    82.212    8.012   10.251     8.170   0.694    4.397      5.340   \n",
              "1  2001    82.350    8.042   10.287     8.009   0.702    4.300      5.359   \n",
              "2  2002    82.488    8.082   10.333     7.837   0.710    4.305      5.376   \n",
              "3  2003    82.534    8.121   10.376     7.775   0.718    4.306      5.391   \n",
              "4  2004    82.516    8.172   10.421     7.717   0.728    4.308      5.405   \n",
              "\n",
              "   Eslováquia  Eslovénia  ...  Letónia  Lituânia  Luxemburgo  Malta  \\\n",
              "0       5.389      1.989  ...    2.368     3.500       0.436  0.390   \n",
              "1       5.379      1.992  ...    2.337     3.471       0.442  0.393   \n",
              "2       5.377      1.995  ...    2.310     3.443       0.446  0.396   \n",
              "3       5.373      1.996  ...    2.288     3.415       0.452  0.399   \n",
              "4       5.372      1.997  ...    2.263     3.377       0.458  0.401   \n",
              "\n",
              "   Países_Baixos  Polónia  Portugal  República Checa  Roménia  Suécia  \n",
              "0         15.926   38.259    10.290           10.255   22.443   8.872  \n",
              "1         16.046   38.248    10.363           10.217   22.132   8.896  \n",
              "2         16.149   38.230    10.420           10.197   21.730   8.925  \n",
              "3         16.225   38.205    10.459           10.194   21.574   8.958  \n",
              "4         16.282   38.182    10.484           10.197   21.452   8.994  \n",
              "\n",
              "[5 rows x 28 columns]"
            ],
            "text/html": [
              "\n",
              "  <div id=\"df-76c3d607-ea77-4629-a9c5-49207541f366\">\n",
              "    <div class=\"colab-df-container\">\n",
              "      <div>\n",
              "<style scoped>\n",
              "    .dataframe tbody tr th:only-of-type {\n",
              "        vertical-align: middle;\n",
              "    }\n",
              "\n",
              "    .dataframe tbody tr th {\n",
              "        vertical-align: top;\n",
              "    }\n",
              "\n",
              "    .dataframe thead th {\n",
              "        text-align: right;\n",
              "    }\n",
              "</style>\n",
              "<table border=\"1\" class=\"dataframe\">\n",
              "  <thead>\n",
              "    <tr style=\"text-align: right;\">\n",
              "      <th></th>\n",
              "      <th>Ano</th>\n",
              "      <th>Alemanha</th>\n",
              "      <th>Áustria</th>\n",
              "      <th>Bélgica</th>\n",
              "      <th>Bulgária</th>\n",
              "      <th>Chipre</th>\n",
              "      <th>Croácia</th>\n",
              "      <th>Dinamarca</th>\n",
              "      <th>Eslováquia</th>\n",
              "      <th>Eslovénia</th>\n",
              "      <th>...</th>\n",
              "      <th>Letónia</th>\n",
              "      <th>Lituânia</th>\n",
              "      <th>Luxemburgo</th>\n",
              "      <th>Malta</th>\n",
              "      <th>Países_Baixos</th>\n",
              "      <th>Polónia</th>\n",
              "      <th>Portugal</th>\n",
              "      <th>República Checa</th>\n",
              "      <th>Roménia</th>\n",
              "      <th>Suécia</th>\n",
              "    </tr>\n",
              "  </thead>\n",
              "  <tbody>\n",
              "    <tr>\n",
              "      <th>0</th>\n",
              "      <td>2000</td>\n",
              "      <td>82.212</td>\n",
              "      <td>8.012</td>\n",
              "      <td>10.251</td>\n",
              "      <td>8.170</td>\n",
              "      <td>0.694</td>\n",
              "      <td>4.397</td>\n",
              "      <td>5.340</td>\n",
              "      <td>5.389</td>\n",
              "      <td>1.989</td>\n",
              "      <td>...</td>\n",
              "      <td>2.368</td>\n",
              "      <td>3.500</td>\n",
              "      <td>0.436</td>\n",
              "      <td>0.390</td>\n",
              "      <td>15.926</td>\n",
              "      <td>38.259</td>\n",
              "      <td>10.290</td>\n",
              "      <td>10.255</td>\n",
              "      <td>22.443</td>\n",
              "      <td>8.872</td>\n",
              "    </tr>\n",
              "    <tr>\n",
              "      <th>1</th>\n",
              "      <td>2001</td>\n",
              "      <td>82.350</td>\n",
              "      <td>8.042</td>\n",
              "      <td>10.287</td>\n",
              "      <td>8.009</td>\n",
              "      <td>0.702</td>\n",
              "      <td>4.300</td>\n",
              "      <td>5.359</td>\n",
              "      <td>5.379</td>\n",
              "      <td>1.992</td>\n",
              "      <td>...</td>\n",
              "      <td>2.337</td>\n",
              "      <td>3.471</td>\n",
              "      <td>0.442</td>\n",
              "      <td>0.393</td>\n",
              "      <td>16.046</td>\n",
              "      <td>38.248</td>\n",
              "      <td>10.363</td>\n",
              "      <td>10.217</td>\n",
              "      <td>22.132</td>\n",
              "      <td>8.896</td>\n",
              "    </tr>\n",
              "    <tr>\n",
              "      <th>2</th>\n",
              "      <td>2002</td>\n",
              "      <td>82.488</td>\n",
              "      <td>8.082</td>\n",
              "      <td>10.333</td>\n",
              "      <td>7.837</td>\n",
              "      <td>0.710</td>\n",
              "      <td>4.305</td>\n",
              "      <td>5.376</td>\n",
              "      <td>5.377</td>\n",
              "      <td>1.995</td>\n",
              "      <td>...</td>\n",
              "      <td>2.310</td>\n",
              "      <td>3.443</td>\n",
              "      <td>0.446</td>\n",
              "      <td>0.396</td>\n",
              "      <td>16.149</td>\n",
              "      <td>38.230</td>\n",
              "      <td>10.420</td>\n",
              "      <td>10.197</td>\n",
              "      <td>21.730</td>\n",
              "      <td>8.925</td>\n",
              "    </tr>\n",
              "    <tr>\n",
              "      <th>3</th>\n",
              "      <td>2003</td>\n",
              "      <td>82.534</td>\n",
              "      <td>8.121</td>\n",
              "      <td>10.376</td>\n",
              "      <td>7.775</td>\n",
              "      <td>0.718</td>\n",
              "      <td>4.306</td>\n",
              "      <td>5.391</td>\n",
              "      <td>5.373</td>\n",
              "      <td>1.996</td>\n",
              "      <td>...</td>\n",
              "      <td>2.288</td>\n",
              "      <td>3.415</td>\n",
              "      <td>0.452</td>\n",
              "      <td>0.399</td>\n",
              "      <td>16.225</td>\n",
              "      <td>38.205</td>\n",
              "      <td>10.459</td>\n",
              "      <td>10.194</td>\n",
              "      <td>21.574</td>\n",
              "      <td>8.958</td>\n",
              "    </tr>\n",
              "    <tr>\n",
              "      <th>4</th>\n",
              "      <td>2004</td>\n",
              "      <td>82.516</td>\n",
              "      <td>8.172</td>\n",
              "      <td>10.421</td>\n",
              "      <td>7.717</td>\n",
              "      <td>0.728</td>\n",
              "      <td>4.308</td>\n",
              "      <td>5.405</td>\n",
              "      <td>5.372</td>\n",
              "      <td>1.997</td>\n",
              "      <td>...</td>\n",
              "      <td>2.263</td>\n",
              "      <td>3.377</td>\n",
              "      <td>0.458</td>\n",
              "      <td>0.401</td>\n",
              "      <td>16.282</td>\n",
              "      <td>38.182</td>\n",
              "      <td>10.484</td>\n",
              "      <td>10.197</td>\n",
              "      <td>21.452</td>\n",
              "      <td>8.994</td>\n",
              "    </tr>\n",
              "  </tbody>\n",
              "</table>\n",
              "<p>5 rows × 28 columns</p>\n",
              "</div>\n",
              "      <button class=\"colab-df-convert\" onclick=\"convertToInteractive('df-76c3d607-ea77-4629-a9c5-49207541f366')\"\n",
              "              title=\"Convert this dataframe to an interactive table.\"\n",
              "              style=\"display:none;\">\n",
              "        \n",
              "  <svg xmlns=\"http://www.w3.org/2000/svg\" height=\"24px\"viewBox=\"0 0 24 24\"\n",
              "       width=\"24px\">\n",
              "    <path d=\"M0 0h24v24H0V0z\" fill=\"none\"/>\n",
              "    <path d=\"M18.56 5.44l.94 2.06.94-2.06 2.06-.94-2.06-.94-.94-2.06-.94 2.06-2.06.94zm-11 1L8.5 8.5l.94-2.06 2.06-.94-2.06-.94L8.5 2.5l-.94 2.06-2.06.94zm10 10l.94 2.06.94-2.06 2.06-.94-2.06-.94-.94-2.06-.94 2.06-2.06.94z\"/><path d=\"M17.41 7.96l-1.37-1.37c-.4-.4-.92-.59-1.43-.59-.52 0-1.04.2-1.43.59L10.3 9.45l-7.72 7.72c-.78.78-.78 2.05 0 2.83L4 21.41c.39.39.9.59 1.41.59.51 0 1.02-.2 1.41-.59l7.78-7.78 2.81-2.81c.8-.78.8-2.07 0-2.86zM5.41 20L4 18.59l7.72-7.72 1.47 1.35L5.41 20z\"/>\n",
              "  </svg>\n",
              "      </button>\n",
              "      \n",
              "  <style>\n",
              "    .colab-df-container {\n",
              "      display:flex;\n",
              "      flex-wrap:wrap;\n",
              "      gap: 12px;\n",
              "    }\n",
              "\n",
              "    .colab-df-convert {\n",
              "      background-color: #E8F0FE;\n",
              "      border: none;\n",
              "      border-radius: 50%;\n",
              "      cursor: pointer;\n",
              "      display: none;\n",
              "      fill: #1967D2;\n",
              "      height: 32px;\n",
              "      padding: 0 0 0 0;\n",
              "      width: 32px;\n",
              "    }\n",
              "\n",
              "    .colab-df-convert:hover {\n",
              "      background-color: #E2EBFA;\n",
              "      box-shadow: 0px 1px 2px rgba(60, 64, 67, 0.3), 0px 1px 3px 1px rgba(60, 64, 67, 0.15);\n",
              "      fill: #174EA6;\n",
              "    }\n",
              "\n",
              "    [theme=dark] .colab-df-convert {\n",
              "      background-color: #3B4455;\n",
              "      fill: #D2E3FC;\n",
              "    }\n",
              "\n",
              "    [theme=dark] .colab-df-convert:hover {\n",
              "      background-color: #434B5C;\n",
              "      box-shadow: 0px 1px 3px 1px rgba(0, 0, 0, 0.15);\n",
              "      filter: drop-shadow(0px 1px 2px rgba(0, 0, 0, 0.3));\n",
              "      fill: #FFFFFF;\n",
              "    }\n",
              "  </style>\n",
              "\n",
              "      <script>\n",
              "        const buttonEl =\n",
              "          document.querySelector('#df-76c3d607-ea77-4629-a9c5-49207541f366 button.colab-df-convert');\n",
              "        buttonEl.style.display =\n",
              "          google.colab.kernel.accessAllowed ? 'block' : 'none';\n",
              "\n",
              "        async function convertToInteractive(key) {\n",
              "          const element = document.querySelector('#df-76c3d607-ea77-4629-a9c5-49207541f366');\n",
              "          const dataTable =\n",
              "            await google.colab.kernel.invokeFunction('convertToInteractive',\n",
              "                                                     [key], {});\n",
              "          if (!dataTable) return;\n",
              "\n",
              "          const docLinkHtml = 'Like what you see? Visit the ' +\n",
              "            '<a target=\"_blank\" href=https://colab.research.google.com/notebooks/data_table.ipynb>data table notebook</a>'\n",
              "            + ' to learn more about interactive tables.';\n",
              "          element.innerHTML = '';\n",
              "          dataTable['output_type'] = 'display_data';\n",
              "          await google.colab.output.renderOutput(dataTable, element);\n",
              "          const docLink = document.createElement('div');\n",
              "          docLink.innerHTML = docLinkHtml;\n",
              "          element.appendChild(docLink);\n",
              "        }\n",
              "      </script>\n",
              "    </div>\n",
              "  </div>\n",
              "  "
            ]
          },
          "metadata": {},
          "execution_count": 51
        }
      ]
    },
    {
      "cell_type": "code",
      "source": [
        "# Mudar coluna Ano para Datetime\n",
        "df_populacao[\"Ano\"] = pd.to_datetime(df_populacao[\"Ano\"], format=\"%Y\" )\n",
        "df_populacao[\"Ano\"] = df_populacao[\"Ano\"].dt.year\n",
        "\n",
        "# Definir coluna Ano como Index\n",
        "df_populacao = df_populacao.set_index(\"Ano\")"
      ],
      "metadata": {
        "id": "TN4OsENINLjI"
      },
      "execution_count": 52,
      "outputs": []
    },
    {
      "cell_type": "code",
      "source": [
        "# Cálculo do PIB acumulativo\n",
        "fig, ax = plt.subplots(figsize=(12,4))\n",
        "# Plot do gráfico de linhas\n",
        "plt.plot(df_populacao.index, df_populacao.Portugal)\n",
        "\n",
        "# Adicionar título e nome de eixos\n",
        "plt.title(\"População ao longo dos anos em Portugal\", fontsize=18)\n",
        "plt.xlabel(\"Ano\")\n",
        "plt.ylabel(\"População em Milhões\")\n",
        "ax.set_frame_on(False)\n",
        "\n",
        "# Adicionar tickers anuais\n",
        "ax.set_xticks(anos)\n",
        "ax.set_xticklabels(anos, rotation=0, ha='center')\n",
        "\n",
        "# Mostrar gráfico\n",
        "plt.show()\n",
        "\n",
        "\n",
        "\n",
        "\n",
        "\n"
      ],
      "metadata": {
        "colab": {
          "base_uri": "https://localhost:8080/",
          "height": 299
        },
        "id": "wrF2GtqQ6v0n",
        "outputId": "f7b6577a-a6c0-4c7d-f067-48ae37dca339"
      },
      "execution_count": 53,
      "outputs": [
        {
          "output_type": "display_data",
          "data": {
            "text/plain": [
              "<Figure size 864x288 with 1 Axes>"
            ],
            "image/png": "[encoded data removed]"
          },
          "metadata": {
            "needs_background": "light"
          }
        }
      ]
    },
    {
      "cell_type": "markdown",
      "source": [
        "O gráfico apresentado mostra a evolução da população portuguesa de 2000 a 2020. É possível notar que a população cresceu de forma constante até atingir seu pico em 2010, com um número de habitantes de 10,6 milhões. A partir desse ponto, houve uma queda na população, levando-a aos níveis de 2000, com uma população de 10,3 milhões de pessoas. Essa queda na população pode ser atribuída a uma série de fatores demográficos, econômicos e sociais, como o envelhecimento da população e a emigração de jovens em busca de melhores oportunidades de trabalho.\n",
        "\n",
        "Vamos avançar para a comparação da dívida pública Portuguesa com a sua população.\n"
      ],
      "metadata": {
        "id": "vzQ5Np1Z6pK-"
      }
    },
    {
      "cell_type": "code",
      "source": [
        "# Definir variável da população Portuguesa em 2020\n",
        "populacao_portugal_2020 = df_populacao.loc[2020, 'Portugal']\n",
        "\n",
        "# Calcular a dívida per capita em Portugal\n",
        "divida_per_capita_PT = dividaPT_2020 / populacao_portugal_2020\n",
        "print(f\"A dívida per capita Portuguesa é de {divida_per_capita_PT:.3f} €.\")\n",
        "\n"
      ],
      "metadata": {
        "colab": {
          "base_uri": "https://localhost:8080/"
        },
        "id": "VsnJ1UWGCOME",
        "outputId": "e341d841-60a1-4249-dadf-7082bd55f003"
      },
      "execution_count": 54,
      "outputs": [
        {
          "output_type": "stream",
          "name": "stdout",
          "text": [
            "A dívida per capita Portuguesa é de 26.269 €.\n"
          ]
        }
      ]
    },
    {
      "cell_type": "markdown",
      "source": [
        "O cálculo da dívida per capita em Portugal é importante para se ter uma noção da relação entre o endevidamento do país e a sua população.  Através do código acima, foi possível obter a dívida per capita para o ano de 2020, dividindo a dívida total de Portugal pelo número de habitantes do país naquele ano.\n",
        "\n",
        "O resultado foi de 26.270 euros por pessoa, indicando que **cada cidadão português teria uma dívida equivalente a essa quantia caso a dívida do país fosse distribuída igualmente entre todos os habitantes**. É importante ressaltar, no entanto, que esse valor pode ser influenciado por diversos fatores econômicos e políticos, além de ser apenas uma média geral, sem levar em conta a distribuição da dívida entre diferentes grupos sociais e regiões do país.\n",
        "\n",
        "Para realizar uma análise mais completa da dívida europeia, é necessário avaliar a dívida per capita em cada país. Isso nos permitirá realizar comparações mais precisas, já que a simples observação da dívida isolada não fornece informações suficientes."
      ],
      "metadata": {
        "id": "w7ENlUf9FcSx"
      }
    },
    {
      "cell_type": "code",
      "source": [
        "# Criar variavel da dívida pública na Europa em 2020\n",
        "divida_EU = df.loc[2020]\n",
        "# Criar variavel da população na Europa em 2020\n",
        "populacao_EU = df_populacao.loc[2020]\n",
        "# Calcular a divida per capita na Europa\n",
        "divida_per_capita_EU = divida_EU / populacao_EU\n",
        "divida_per_capita_EU = divida_per_capita_EU.sort_values(ascending=False)\n",
        "divida_per_capita_EU\n",
        "\n"
      ],
      "metadata": {
        "colab": {
          "base_uri": "https://localhost:8080/"
        },
        "id": "oJOx36hrzCSv",
        "outputId": "a0a4bda7-37bb-4336-a2f2-1b23dbdd5937"
      },
      "execution_count": 55,
      "outputs": [
        {
          "output_type": "execute_result",
          "data": {
            "text/plain": [
              "Bélgica            44.645810\n",
              "Irlanda            43.679438\n",
              "Itália             43.283989\n",
              "França             39.357412\n",
              "Áustria            35.435685\n",
              "Finlândia          32.177215\n",
              "Grécia             31.886438\n",
              "Espanha            28.412490\n",
              "Chipre             27.860987\n",
              "Alemanha           27.840165\n",
              "Portugal           26.269302\n",
              "Luxemburgo         25.196825\n",
              "Países_Baixos      24.966116\n",
              "Dinamarca          22.607443\n",
              "Suécia             19.175698\n",
              "Eslovénia          17.803520\n",
              "Malta              13.543689\n",
              "Hungria            10.820000\n",
              "Croácia            10.818137\n",
              "Eslováquia         10.079319\n",
              "Lituânia            8.251163\n",
              "Polónia             7.734347\n",
              "República Checa     7.657787\n",
              "Letónia             6.690000\n",
              "Roménia             5.329769\n",
              "Estónia             3.830075\n",
              "Bulgária            2.182290\n",
              "Name: 2020, dtype: float64"
            ]
          },
          "metadata": {},
          "execution_count": 55
        }
      ]
    },
    {
      "cell_type": "code",
      "source": [
        "# Criar gráfico da dívida per capita Europeia\n",
        "fig, ax = plt.subplots(figsize=(20,10))\n",
        "divida_per_capita_EU.sort_values(ascending=False).plot.bar()\n",
        "\n",
        "# Destacar Portugal com outra cor\n",
        "ax.bar(divida_per_capita_EU.index.get_loc(\"Portugal\"), divida_per_capita_EU.loc[\"Portugal\"], color=\"green\",width=0.5)\n",
        "\n",
        "# Adicionar rótulos aos eixos e um título ao gráfico\n",
        "plt.xlabel(\"Países Europeus\")\n",
        "plt.ylabel(\"Dívida per capita\")\n",
        "plt.title(\"Dívida per capita na Europa\", fontsize= 18)\n",
        "ax.set_frame_on(False)\n",
        "plt.show()"
      ],
      "metadata": {
        "colab": {
          "base_uri": "https://localhost:8080/",
          "height": 699
        },
        "id": "VF-WcpQBCfJE",
        "outputId": "6e887f53-2f0b-4c56-a13d-40c648ec80a4"
      },
      "execution_count": 56,
      "outputs": [
        {
          "output_type": "display_data",
          "data": {
            "text/plain": [
              "<Figure size 1440x720 with 1 Axes>"
            ],
            "image/png": "[encoded data removed]"
          },
          "metadata": {
            "needs_background": "light"
          }
        }
      ]
    },
    {
      "cell_type": "markdown",
      "source": [
        "Com base nos dados, é possível observar que como tinhamos visto, a dívida pública per capita em Portugal em 2020 foi de aproximadamente 26.270 mil euros, colocando-o em 11º lugar entre os países da União Europeia. Comparado com os países que ocupam o topo da lista, como a Bélgica, a Irlanda e a Itália, o valor da dívida per capita de Portugal é relativamente menor.\n",
        "\n",
        "Existem vários motivos pelos quais um país pode ter uma dívida per capita maior do que Portugal. Algumas razões comuns incluem:\n",
        "- **Dimensão da economia:** Países com economias maiores tendem a ter uma dívida per capita maior, uma vez que precisam de financiar projetos e programas em maior escala. \n",
        "- **Nível de desenvolvimento:** Países mais desenvolvidos tendem a ter uma dívida per capita maior, uma vez que investem mais em áreas como educação, saúde e infraestrutura. Por exemplo, países como a Noruega e a Suíça têm dívidas per capita maiores do que Portugal devido ao seu nível de desenvolvimento mais elevado.\n",
        "- **Políticas fiscais:** A forma como os governos lidam com as suas finanças públicas também pode afetar a dívida per capita. Políticas fiscais como a redução de impostos ou o aumento dos gastos públicos podem aumentar a dívida de um país.\n",
        "- **Crises económicas:** Crises económicas podem levar a um aumento da dívida per capita, uma vez que os governos precisam de investir em medidas de estímulo e de apoio às empresas e cidadãos. \n",
        "\n",
        "Por estes motivos é relativamente normal que a dívida pública seja maior também, mas precivamos de mais dados para uma avaliação real de cada um destes países, e assim perceber se realmente esta dívida publica está mais ou menos alta do que em Portugal.\n",
        "\n",
        "Ainda assim, é importante notar que a dívida pública per capita em Portugal é superior à de outros países da UE com um PIB semelhante, como a República Checa e a Roménia."
      ],
      "metadata": {
        "id": "Ox8QuT-dj3w8"
      }
    },
    {
      "cell_type": "markdown",
      "source": [
        "## **Dívida per capita ao longo dos anos na Europa**"
      ],
      "metadata": {
        "id": "qItnucayHX7e"
      }
    },
    {
      "cell_type": "markdown",
      "source": [
        "Vamos realizar uma análise do crescimento da dívida per capita ao longo dos anos, a fim de obtermos uma compreensão mais clara sobre o aumento real da dívida pública em relação à população. Essa análise nos permitirá avaliar com mais precisão a situação financeira do país e identificar possíveis tendências de endividamento da população ao longo do tempo."
      ],
      "metadata": {
        "id": "icXGlCBw2rt0"
      }
    },
    {
      "cell_type": "code",
      "source": [
        "# Criar dataframe com os dados da dívida per capita na Europa\n",
        "df_divida_por_ano = df  / df_populacao\n",
        "df_divida_por_ano.head()\n",
        "\n"
      ],
      "metadata": {
        "id": "Q6cz7a0aHcln",
        "colab": {
          "base_uri": "https://localhost:8080/",
          "height": 348
        },
        "outputId": "259c837b-624b-4063-ab09-4b003a228166"
      },
      "execution_count": 57,
      "outputs": [
        {
          "output_type": "execute_result",
          "data": {
            "text/plain": [
              "       Alemanha    Áustria    Bélgica  Bulgária     Chipre   Croácia  \\\n",
              "Ano                                                                    \n",
              "2000  15.223216  17.629306  27.408058  1.245655   8.681556  1.919718   \n",
              "2001  15.352362  18.298185  27.807524  1.282307   9.488604  2.246744   \n",
              "2002  15.974202  18.720119  27.882609  1.134363  10.338028  2.415331   \n",
              "2003  17.025650  18.801625  27.550790  1.045273  11.399721  2.699025   \n",
              "2004  17.877539  19.332477  27.676710  0.975249  12.439560  3.066620   \n",
              "\n",
              "      Dinamarca  Eslováquia  Eslovénia   Espanha  ...   Letónia  Lituânia  \\\n",
              "Ano                                               ...                       \n",
              "2000  17.431461    2.032659   2.757164  9.232819  ...  0.426943  0.832000   \n",
              "2001  16.694346    2.299684   3.030120  9.274982  ...  0.557980  0.917603   \n",
              "2002  17.331659    2.282686   3.362406  9.271698  ...  0.541991  0.977636   \n",
              "2003  16.520312    2.442769   3.478958  9.073078  ...  0.616259  0.994143   \n",
              "2004  16.539315    2.787975   3.719579  9.083640  ...  0.719841  1.008291   \n",
              "\n",
              "      Luxemburgo     Malta  Países_Baixos   Polónia  Portugal  \\\n",
              "Ano                                                             \n",
              "2000    3.951835  6.805128      14.808426  1.848846  6.763071   \n",
              "2001    4.126697  7.605598      14.872305  2.178049  7.517900   \n",
              "2002    4.179372  7.391414      15.163540  2.203087  8.214491   \n",
              "2003    4.316372  8.187970      15.805424  2.195891  8.923702   \n",
              "2004    4.820961  8.603491      16.354993  2.699151  9.744182   \n",
              "\n",
              "      República Checa   Roménia     Suécia  \n",
              "Ano                                         \n",
              "2000         1.128035  0.335650  15.474527  \n",
              "2001         1.793286  0.493268  15.703462  \n",
              "2002         2.158870  0.495030  15.842129  \n",
              "2003         2.406416  0.477890  16.377540  \n",
              "2004         2.811905  0.548620  16.902268  \n",
              "\n",
              "[5 rows x 27 columns]"
            ],
            "text/html": [
              "\n",
              "  <div id=\"df-e7979d3f-c7d9-492a-9b65-337e0efd37c9\">\n",
              "    <div class=\"colab-df-container\">\n",
              "      <div>\n",
              "<style scoped>\n",
              "    .dataframe tbody tr th:only-of-type {\n",
              "        vertical-align: middle;\n",
              "    }\n",
              "\n",
              "    .dataframe tbody tr th {\n",
              "        vertical-align: top;\n",
              "    }\n",
              "\n",
              "    .dataframe thead th {\n",
              "        text-align: right;\n",
              "    }\n",
              "</style>\n",
              "<table border=\"1\" class=\"dataframe\">\n",
              "  <thead>\n",
              "    <tr style=\"text-align: right;\">\n",
              "      <th></th>\n",
              "      <th>Alemanha</th>\n",
              "      <th>Áustria</th>\n",
              "      <th>Bélgica</th>\n",
              "      <th>Bulgária</th>\n",
              "      <th>Chipre</th>\n",
              "      <th>Croácia</th>\n",
              "      <th>Dinamarca</th>\n",
              "      <th>Eslováquia</th>\n",
              "      <th>Eslovénia</th>\n",
              "      <th>Espanha</th>\n",
              "      <th>...</th>\n",
              "      <th>Letónia</th>\n",
              "      <th>Lituânia</th>\n",
              "      <th>Luxemburgo</th>\n",
              "      <th>Malta</th>\n",
              "      <th>Países_Baixos</th>\n",
              "      <th>Polónia</th>\n",
              "      <th>Portugal</th>\n",
              "      <th>República Checa</th>\n",
              "      <th>Roménia</th>\n",
              "      <th>Suécia</th>\n",
              "    </tr>\n",
              "    <tr>\n",
              "      <th>Ano</th>\n",
              "      <th></th>\n",
              "      <th></th>\n",
              "      <th></th>\n",
              "      <th></th>\n",
              "      <th></th>\n",
              "      <th></th>\n",
              "      <th></th>\n",
              "      <th></th>\n",
              "      <th></th>\n",
              "      <th></th>\n",
              "      <th></th>\n",
              "      <th></th>\n",
              "      <th></th>\n",
              "      <th></th>\n",
              "      <th></th>\n",
              "      <th></th>\n",
              "      <th></th>\n",
              "      <th></th>\n",
              "      <th></th>\n",
              "      <th></th>\n",
              "      <th></th>\n",
              "    </tr>\n",
              "  </thead>\n",
              "  <tbody>\n",
              "    <tr>\n",
              "      <th>2000</th>\n",
              "      <td>15.223216</td>\n",
              "      <td>17.629306</td>\n",
              "      <td>27.408058</td>\n",
              "      <td>1.245655</td>\n",
              "      <td>8.681556</td>\n",
              "      <td>1.919718</td>\n",
              "      <td>17.431461</td>\n",
              "      <td>2.032659</td>\n",
              "      <td>2.757164</td>\n",
              "      <td>9.232819</td>\n",
              "      <td>...</td>\n",
              "      <td>0.426943</td>\n",
              "      <td>0.832000</td>\n",
              "      <td>3.951835</td>\n",
              "      <td>6.805128</td>\n",
              "      <td>14.808426</td>\n",
              "      <td>1.848846</td>\n",
              "      <td>6.763071</td>\n",
              "      <td>1.128035</td>\n",
              "      <td>0.335650</td>\n",
              "      <td>15.474527</td>\n",
              "    </tr>\n",
              "    <tr>\n",
              "      <th>2001</th>\n",
              "      <td>15.352362</td>\n",
              "      <td>18.298185</td>\n",
              "      <td>27.807524</td>\n",
              "      <td>1.282307</td>\n",
              "      <td>9.488604</td>\n",
              "      <td>2.246744</td>\n",
              "      <td>16.694346</td>\n",
              "      <td>2.299684</td>\n",
              "      <td>3.030120</td>\n",
              "      <td>9.274982</td>\n",
              "      <td>...</td>\n",
              "      <td>0.557980</td>\n",
              "      <td>0.917603</td>\n",
              "      <td>4.126697</td>\n",
              "      <td>7.605598</td>\n",
              "      <td>14.872305</td>\n",
              "      <td>2.178049</td>\n",
              "      <td>7.517900</td>\n",
              "      <td>1.793286</td>\n",
              "      <td>0.493268</td>\n",
              "      <td>15.703462</td>\n",
              "    </tr>\n",
              "    <tr>\n",
              "      <th>2002</th>\n",
              "      <td>15.974202</td>\n",
              "      <td>18.720119</td>\n",
              "      <td>27.882609</td>\n",
              "      <td>1.134363</td>\n",
              "      <td>10.338028</td>\n",
              "      <td>2.415331</td>\n",
              "      <td>17.331659</td>\n",
              "      <td>2.282686</td>\n",
              "      <td>3.362406</td>\n",
              "      <td>9.271698</td>\n",
              "      <td>...</td>\n",
              "      <td>0.541991</td>\n",
              "      <td>0.977636</td>\n",
              "      <td>4.179372</td>\n",
              "      <td>7.391414</td>\n",
              "      <td>15.163540</td>\n",
              "      <td>2.203087</td>\n",
              "      <td>8.214491</td>\n",
              "      <td>2.158870</td>\n",
              "      <td>0.495030</td>\n",
              "      <td>15.842129</td>\n",
              "    </tr>\n",
              "    <tr>\n",
              "      <th>2003</th>\n",
              "      <td>17.025650</td>\n",
              "      <td>18.801625</td>\n",
              "      <td>27.550790</td>\n",
              "      <td>1.045273</td>\n",
              "      <td>11.399721</td>\n",
              "      <td>2.699025</td>\n",
              "      <td>16.520312</td>\n",
              "      <td>2.442769</td>\n",
              "      <td>3.478958</td>\n",
              "      <td>9.073078</td>\n",
              "      <td>...</td>\n",
              "      <td>0.616259</td>\n",
              "      <td>0.994143</td>\n",
              "      <td>4.316372</td>\n",
              "      <td>8.187970</td>\n",
              "      <td>15.805424</td>\n",
              "      <td>2.195891</td>\n",
              "      <td>8.923702</td>\n",
              "      <td>2.406416</td>\n",
              "      <td>0.477890</td>\n",
              "      <td>16.377540</td>\n",
              "    </tr>\n",
              "    <tr>\n",
              "      <th>2004</th>\n",
              "      <td>17.877539</td>\n",
              "      <td>19.332477</td>\n",
              "      <td>27.676710</td>\n",
              "      <td>0.975249</td>\n",
              "      <td>12.439560</td>\n",
              "      <td>3.066620</td>\n",
              "      <td>16.539315</td>\n",
              "      <td>2.787975</td>\n",
              "      <td>3.719579</td>\n",
              "      <td>9.083640</td>\n",
              "      <td>...</td>\n",
              "      <td>0.719841</td>\n",
              "      <td>1.008291</td>\n",
              "      <td>4.820961</td>\n",
              "      <td>8.603491</td>\n",
              "      <td>16.354993</td>\n",
              "      <td>2.699151</td>\n",
              "      <td>9.744182</td>\n",
              "      <td>2.811905</td>\n",
              "      <td>0.548620</td>\n",
              "      <td>16.902268</td>\n",
              "    </tr>\n",
              "  </tbody>\n",
              "</table>\n",
              "<p>5 rows × 27 columns</p>\n",
              "</div>\n",
              "      <button class=\"colab-df-convert\" onclick=\"convertToInteractive('df-e7979d3f-c7d9-492a-9b65-337e0efd37c9')\"\n",
              "              title=\"Convert this dataframe to an interactive table.\"\n",
              "              style=\"display:none;\">\n",
              "        \n",
              "  <svg xmlns=\"http://www.w3.org/2000/svg\" height=\"24px\"viewBox=\"0 0 24 24\"\n",
              "       width=\"24px\">\n",
              "    <path d=\"M0 0h24v24H0V0z\" fill=\"none\"/>\n",
              "    <path d=\"M18.56 5.44l.94 2.06.94-2.06 2.06-.94-2.06-.94-.94-2.06-.94 2.06-2.06.94zm-11 1L8.5 8.5l.94-2.06 2.06-.94-2.06-.94L8.5 2.5l-.94 2.06-2.06.94zm10 10l.94 2.06.94-2.06 2.06-.94-2.06-.94-.94-2.06-.94 2.06-2.06.94z\"/><path d=\"M17.41 7.96l-1.37-1.37c-.4-.4-.92-.59-1.43-.59-.52 0-1.04.2-1.43.59L10.3 9.45l-7.72 7.72c-.78.78-.78 2.05 0 2.83L4 21.41c.39.39.9.59 1.41.59.51 0 1.02-.2 1.41-.59l7.78-7.78 2.81-2.81c.8-.78.8-2.07 0-2.86zM5.41 20L4 18.59l7.72-7.72 1.47 1.35L5.41 20z\"/>\n",
              "  </svg>\n",
              "      </button>\n",
              "      \n",
              "  <style>\n",
              "    .colab-df-container {\n",
              "      display:flex;\n",
              "      flex-wrap:wrap;\n",
              "      gap: 12px;\n",
              "    }\n",
              "\n",
              "    .colab-df-convert {\n",
              "      background-color: #E8F0FE;\n",
              "      border: none;\n",
              "      border-radius: 50%;\n",
              "      cursor: pointer;\n",
              "      display: none;\n",
              "      fill: #1967D2;\n",
              "      height: 32px;\n",
              "      padding: 0 0 0 0;\n",
              "      width: 32px;\n",
              "    }\n",
              "\n",
              "    .colab-df-convert:hover {\n",
              "      background-color: #E2EBFA;\n",
              "      box-shadow: 0px 1px 2px rgba(60, 64, 67, 0.3), 0px 1px 3px 1px rgba(60, 64, 67, 0.15);\n",
              "      fill: #174EA6;\n",
              "    }\n",
              "\n",
              "    [theme=dark] .colab-df-convert {\n",
              "      background-color: #3B4455;\n",
              "      fill: #D2E3FC;\n",
              "    }\n",
              "\n",
              "    [theme=dark] .colab-df-convert:hover {\n",
              "      background-color: #434B5C;\n",
              "      box-shadow: 0px 1px 3px 1px rgba(0, 0, 0, 0.15);\n",
              "      filter: drop-shadow(0px 1px 2px rgba(0, 0, 0, 0.3));\n",
              "      fill: #FFFFFF;\n",
              "    }\n",
              "  </style>\n",
              "\n",
              "      <script>\n",
              "        const buttonEl =\n",
              "          document.querySelector('#df-e7979d3f-c7d9-492a-9b65-337e0efd37c9 button.colab-df-convert');\n",
              "        buttonEl.style.display =\n",
              "          google.colab.kernel.accessAllowed ? 'block' : 'none';\n",
              "\n",
              "        async function convertToInteractive(key) {\n",
              "          const element = document.querySelector('#df-e7979d3f-c7d9-492a-9b65-337e0efd37c9');\n",
              "          const dataTable =\n",
              "            await google.colab.kernel.invokeFunction('convertToInteractive',\n",
              "                                                     [key], {});\n",
              "          if (!dataTable) return;\n",
              "\n",
              "          const docLinkHtml = 'Like what you see? Visit the ' +\n",
              "            '<a target=\"_blank\" href=https://colab.research.google.com/notebooks/data_table.ipynb>data table notebook</a>'\n",
              "            + ' to learn more about interactive tables.';\n",
              "          element.innerHTML = '';\n",
              "          dataTable['output_type'] = 'display_data';\n",
              "          await google.colab.output.renderOutput(dataTable, element);\n",
              "          const docLink = document.createElement('div');\n",
              "          docLink.innerHTML = docLinkHtml;\n",
              "          element.appendChild(docLink);\n",
              "        }\n",
              "      </script>\n",
              "    </div>\n",
              "  </div>\n",
              "  "
            ]
          },
          "metadata": {},
          "execution_count": 57
        }
      ]
    },
    {
      "cell_type": "markdown",
      "source": [
        "A escolha dos países para comparar com Portugal em uma análise de dívida per capita pode depender de diversos fatores, como o nível de desenvolvimento econômico, a proximidade geográfica, as semelhanças em termos de política fiscal, entre outros.\n",
        "\n",
        "Algumas sugestões de países que podem ser interessantes para comparação com Portugal em relação à dívida per capita são:\n",
        "\n",
        "- **Espanha:** País vizinho de Portugal, com uma economia similar e que também enfrentou dificuldades financeiras nos últimos anos.\n",
        "- **Grécia:** País que passou por uma grave crise econômica e fiscal e que tem uma dívida per capita relativamente alta.\n",
        "- **Itália:** País com uma economia grande e diversificada, mas que também enfrenta desafios fiscais e tem uma dívida per capita significativa.\n",
        "- **França:** País com uma economia avançada e diversificada, com uma dívida per capita menor que a de Portugal, mas ainda assim significativa.\n",
        "- **Alemanha:** País com a maior economia da Europa, que tem uma dívida per capita relativamente baixa e que pode servir como uma referência para uma política fiscal prudente."
      ],
      "metadata": {
        "id": "dK076AU14EqB"
      }
    },
    {
      "cell_type": "code",
      "source": [
        "# Selecionar apenas as colunas dos países desejados\n",
        "países = ['Portugal', 'Alemanha', 'França', 'Espanha', 'Itália', 'Grécia']\n",
        "df_países = df_divida_por_ano[países]\n",
        "\n",
        "# Criar gráfico de comparação entre PIB e Dívida para os países selecionados\n",
        "fig, ax = plt.subplots(figsize=(12,8))\n",
        "ano = df.index\n",
        "\n",
        "# Criar o gráfico\n",
        "cores = ['red','black', 'blue', 'yellow', 'green', \"grey\"]\n",
        "for i, coluna in enumerate(df_países.columns):\n",
        "    plt.plot(df_países[coluna], label=coluna, color=cores[i], linewidth=2) #aumentar tamanho das linhas e colocar pontos nos anos\n",
        "    last_val = df_divida_por_ano[coluna].tail(1).values[0]\n",
        "    last_year = df_divida_por_ano.index[-1]\n",
        "    plt.text(last_year + 0.1 , last_val + 0.12, coluna, fontsize=10, color=\"black\")\n",
        "\n",
        "# Adicionar rótulos aos eixos e um título ao gráfico\n",
        "plt.xlabel(\"Ano\")\n",
        "plt.ylabel(\"Dívida per capita (em milhares de euros)\")\n",
        "plt.title(\"Dívida per capita nos principais países europeus\", fontsize= 18)\n",
        "plt.legend()\n",
        "ax.set_frame_on(False)\n",
        "\n",
        "# Adicionar tickers anuais\n",
        "ax.set_xticks(anos)\n",
        "ax.set_xticklabels(anos, rotation=0, ha='center')\n",
        "\n",
        "\n",
        "# Exiba o gráfico\n",
        "plt.show()\n"
      ],
      "metadata": {
        "colab": {
          "base_uri": "https://localhost:8080/",
          "height": 517
        },
        "id": "P5jsnbFSJyb4",
        "outputId": "9ebea03d-c199-49fd-9603-c4df732d2651"
      },
      "execution_count": 58,
      "outputs": [
        {
          "output_type": "display_data",
          "data": {
            "text/plain": [
              "<Figure size 864x576 with 1 Axes>"
            ],
            "image/png": "[encoded data removed]"
          },
          "metadata": {
            "needs_background": "light"
          }
        }
      ]
    },
    {
      "cell_type": "markdown",
      "source": [
        "Inicialmente, é possível notar que todos os países analisados apresentaram aumento na dívida per capita ao longo do período estudado. É interessante ressaltar que durante a crise econômica global de 2008, em geral, houve um aumento na dívida per capita, que se estendeu até pelo menos 2010.\n",
        "\n",
        "Dentre os cinco países analisados, apenas a Alemanha apresentou redução na dívida per capita em algum destes anos. É notável que a partir de 2012, houve uma diminuição na dívida, chegando aos níveis de 2010, ou seja, houve uma grande regressão da dívida na Alemanha.\n",
        "\n",
        "Todos esses países tiveram um aumento significativo na sua dívida em 2020, possivelmente em resposta à crise provocada pela pandemia de COVID-19.\n",
        "\n",
        "É interessante destacar a \"disputa\" entre Portugal e Espanha, na qual, no início dos anos 2000, a Espanha possuía uma dívida per capita maior que Portugal, até 2004. Entre 2004 e 2012, a Espanha aumentou progressivamente a sua dívida, ultrapassando Portugal nesse mesmo ano.\n",
        "\n",
        "Para terminarmos toda esta análise vamos observar qual foi o crescimento porcentual da dívida per capita ao longo dos anos nestes 5 países."
      ],
      "metadata": {
        "id": "aIkpgLVI96El"
      }
    },
    {
      "cell_type": "code",
      "source": [
        "# Calcular o crescimento porcentual dos 5 países europeus\n",
        "crescimento_perc = df_países.pct_change() * 100\n",
        "# Calcular a média anual\n",
        "round(crescimento_perc.mean().sort_values(ascending=False), 2)"
      ],
      "metadata": {
        "id": "AQ5BUD41-diC",
        "colab": {
          "base_uri": "https://localhost:8080/"
        },
        "outputId": "36093e1f-7c0b-4fe1-9360-f91598c4dadc"
      },
      "execution_count": 59,
      "outputs": [
        {
          "output_type": "execute_result",
          "data": {
            "text/plain": [
              "Portugal    7.11\n",
              "Espanha     6.11\n",
              "França      5.25\n",
              "Grécia      4.48\n",
              "Alemanha    3.19\n",
              "Itália      3.05\n",
              "dtype: float64"
            ]
          },
          "metadata": {},
          "execution_count": 59
        }
      ]
    },
    {
      "cell_type": "markdown",
      "source": [
        "Para obtermos uma análise mais precisa do crescimento da dívida per capita, uma forma eficaz é calcular a média anual do crescimento da mesma.\n",
        "\n",
        "Ao analisarmos a tabela acima, **é possível perceber que Portugal apresenta o maior crescimento da dívida pública em relação à sua população, com uma média de 7.11%**, o que é 1% maior do que a Espanha e 4% maior do que a Itália.\n",
        "\n",
        "Curiosamente, a Itália, mesmo possuindo a dívida per capita mais elevada entre os cinco países analisados, apresenta a menor taxa de crescimento anual. Isso se deve, em parte, à gestão consistente da dívida italiana ao longo dos anos, ou seja, mesmo durante períodos de crise, a Itália não adota medidas extremas de aumento da dívida para controlar as finanças em momentos mais difíceis.\n",
        "\n",
        "Vamos avaliar como cada país geriu com esta dívida antes e depois das duas crises mundiais mais recentes(Crise de 2008 e crise de covid-19)"
      ],
      "metadata": {
        "id": "_2SLvcvNB6ei"
      }
    },
    {
      "cell_type": "code",
      "source": [
        "# Crescimento da dívida entre 2007 e 2010\n",
        "print(round(crescimento_perc.loc[2007:2010]))\n",
        "print( \"\\n\", \"-\"*51)\n",
        "# Crescimento da dívida entre 2018 e 2020\n",
        "print(round(crescimento_perc.loc[2018:2020]))"
      ],
      "metadata": {
        "id": "zFRbTWnTF7kY",
        "colab": {
          "base_uri": "https://localhost:8080/"
        },
        "outputId": "4027417d-d46f-4780-c024-dd0400b9888f"
      },
      "execution_count": 60,
      "outputs": [
        {
          "output_type": "stream",
          "name": "stdout",
          "text": [
            "      Portugal  Alemanha  França  Espanha  Itália  Grécia\n",
            "Ano                                                      \n",
            "2007       4.0       1.0     4.0     -4.0     1.0     6.0\n",
            "2008       6.0       4.0     9.0     13.0     3.0    10.0\n",
            "2009      14.0       7.0    17.0     28.0     5.0    13.0\n",
            "2010      17.0      19.0     5.0     13.0     4.0    10.0\n",
            "\n",
            " ---------------------------------------------------\n",
            "      Portugal  Alemanha  França  Espanha  Itália  Grécia\n",
            "Ano                                                      \n",
            "2018       1.0      -3.0     2.0      2.0     3.0     6.0\n",
            "2019       0.0      -1.0     3.0      0.0     2.0    -1.0\n",
            "2020       8.0      13.0    11.0      9.0     7.0     3.0\n"
          ]
        }
      ]
    },
    {
      "cell_type": "markdown",
      "source": [
        "Nesta tabelas temos o crescimento acumulado de 6 países da Europa. Como foi gerida a dívida per capita nas crises mundiais nestes países.\n",
        "\n",
        "Portugal apresentou um aumento acentuado na dívida per capita durante o período de 2007 a 2010 que é o maior aumento entre os cinco países. \n",
        "\n",
        "Interessante notar também que a Itália, que possui a dívida per capita mais alta entre os cinco países, tem apresentado uma taxa de crescimento anual mais baixa em relação aos outros países, o que sugere uma gestão mais consistente da dívida Italiana ao longo dos anos, mesmo durante períodos de crise."
      ],
      "metadata": {
        "id": "cqu-H-Y_8nrs"
      }
    },
    {
      "cell_type": "markdown",
      "source": [
        "# **Conclusão**"
      ],
      "metadata": {
        "id": "SMXuGt6EE05q"
      }
    },
    {
      "cell_type": "markdown",
      "source": [
        "Neste projeto, exploramos o tema da dívida pública na Europa, com foco principal na situação de Portugal. Vimos o que é a dívida pública, como ela pode afetar a população em geral e como isso pode ser medido em relação ao crescimento do PIB. Em seguida, comparamos a dívida pública em Portugal com a média da Europa e observamos que a situação em Portugal é mais preocupante do que em muitos outros países europeus, devido a alguns motivos que vamos especificar:\n",
        "- **Na crise de 2008, Portugal foi um dos países da europa que teve um aumento mais agressivo da dívida publica**. O aumento da dívida no ano seguinte, ou seja, em 2009 foi de 13.67% neste ano, e nos anos seguintes, a dívida continuou a aumentar para sustentar a economia Portuguesa.\n",
        "- Em 2009, houve uma queda significativa do PIB em todo o mundo devido à crise econômica mundial. Embora a economia tenha crescido entre 2009 e 2010, ela **retornou rapidamente aos níveis pré-crise de 2008 em Portugal.**\n",
        "- Durante as últimas duas décadas, houve uma grande diferença entre o PIB e a dívida pública em Portugal. Embora esses indicadores devam ser analisados de forma independente, o crescimento constante da dívida em relação ao PIB representa um desequilíbrio preocupante que pode gerar dificuldades para Portugal. **Se a dívida pública continuar a crescer rapidamente enquanto o PIB tem um crescimento baixo e instável, pode dificultar ainda mais o pagamento das dívidas do país, além de dificultar a previsão do crescimento do PIB em Portugal nos próximos anos**. Essa instabilidade pode ter consequências negativas na economia e na vida dos cidadãos portugueses.\n",
        "- **Portugal tem um crescimento da dívida pública mais alto do que a média Europeia**(7% contra 6% da média da Europa). Ainda assim existem países com taxas de crescimento da dívida acima de 15%.\n",
        "- Entre os 6 países que analisamos da Europa,Portugal, Espanha, França, Alemanha,Itália e Grécia, **Portugal é o país que apresenta um crescimento da dívida per capita maior**. **E entre estes países, foi Portugal que durante o período de 2007 a 2010 , aumentou mais a sua dívida per capita**.\n",
        "\n",
        "Com base nas análises realizadas, é possível observar que **Portugal enfrenta uma situação econômica instável em comparação à média dos países europeus**. Diante disso, é necessário que o governo português adote medidas efetivas para tornar o país mais estável, a fim de proporcionar uma previsibilidade mais precisa para o futuro da economia. Além disso, é fundamental que sejam implementados projetos de longo prazo que contribuam para a redução da dívida e melhoria da qualidade de vida dos cidadãos portugueses.\n",
        "\n",
        "\n",
        "\n",
        "\n",
        "\n",
        "\n"
      ],
      "metadata": {
        "id": "7cE67My2dnj6"
      }
    }
  ]
}